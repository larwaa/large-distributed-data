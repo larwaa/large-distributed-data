{
 "cells": [
  {
   "cell_type": "markdown",
   "metadata": {},
   "source": [
    "# Introduction\n",
    "This notebook performs the tasks in the exercise"
   ]
  },
  {
   "cell_type": "code",
   "execution_count": 24,
   "metadata": {},
   "outputs": [
    {
     "name": "stdout",
     "output_type": "stream",
     "text": [
      "The autoreload extension is already loaded. To reload it, use:\n",
      "  %reload_ext autoreload\n"
     ]
    }
   ],
   "source": [
    "%load_ext autoreload\n",
    "%autoreload 2"
   ]
  },
  {
   "cell_type": "code",
   "execution_count": 25,
   "metadata": {},
   "outputs": [],
   "source": [
    "from migrator import Migrator\n",
    "from database import Database\n",
    "from environs import Env\n",
    "import tasks as t"
   ]
  },
  {
   "cell_type": "markdown",
   "metadata": {},
   "source": [
    "## Part 1\n",
    "Setting up and seeding the database."
   ]
  },
  {
   "cell_type": "code",
   "execution_count": 26,
   "metadata": {},
   "outputs": [],
   "source": [
    "env = Env()\n",
    "env.read_env(\".env\")"
   ]
  },
  {
   "cell_type": "code",
   "execution_count": 27,
   "metadata": {},
   "outputs": [
    {
     "name": "stdout",
     "output_type": "stream",
     "text": [
      "Connected to: 8.1.0\n",
      "You are connected to the database: ('mysql',)\n",
      "-----------------------------------------------\n",
      "\n"
     ]
    }
   ],
   "source": [
    "database = Database(\n",
    "    host=env.str(\"DB_HOST\"),\n",
    "    port=env.int(\"DB_PORT\"),\n",
    "    user=env.str(\"DB_USER\"),\n",
    "    password=env.str(\"DB_PASSWORD\"),\n",
    "    database=env.str(\"DB_DATABASE\")\n",
    ")"
   ]
  },
  {
   "cell_type": "markdown",
   "metadata": {},
   "source": [
    "### Create tables"
   ]
  },
  {
   "cell_type": "code",
   "execution_count": 28,
   "metadata": {},
   "outputs": [],
   "source": [
    "migrator = Migrator(database)"
   ]
  },
  {
   "cell_type": "code",
   "execution_count": 29,
   "metadata": {},
   "outputs": [
    {
     "name": "stdout",
     "output_type": "stream",
     "text": [
      "--------------------------------Starting migrate--------------------------------\n",
      "Found migration files:  ['001_users.sql', '002_activities.sql', '003_trackpoints.sql']\n",
      "Running migration:   001_users.sql       ✅\n",
      "Running migration:   002_activities.sql  ✅\n",
      "Running migration:   003_trackpoints.sql ✅\n",
      "-------------------------Finished migrate in 58.014 ms--------------------------\n",
      "\n"
     ]
    }
   ],
   "source": [
    "migrator.migrate()"
   ]
  },
  {
   "cell_type": "markdown",
   "metadata": {},
   "source": [
    "### (DANGER) Wipe the DB\n",
    "🚨 THIS WILL WIPE ALL DATA IN THE TABLES 🚨"
   ]
  },
  {
   "cell_type": "code",
   "execution_count": 33,
   "metadata": {},
   "outputs": [
    {
     "name": "stdout",
     "output_type": "stream",
     "text": [
      "---------------------------------Starting wipe----------------------------------\n",
      "Wiping TrackPoints\n",
      "Wiping Activities\n",
      "Wiping Users\n",
      "---------------------------Finished wipe in 25.669 ms---------------------------\n",
      "\n"
     ]
    }
   ],
   "source": [
    "# migrator.wipe()"
   ]
  },
  {
   "cell_type": "markdown",
   "metadata": {},
   "source": [
    "### Seed Database from Data Set"
   ]
  },
  {
   "cell_type": "code",
   "execution_count": 31,
   "metadata": {},
   "outputs": [
    {
     "name": "stdout",
     "output_type": "stream",
     "text": [
      "------------------------------Starting seed_users-------------------------------\n",
      "Seeded [(182,)] Users\n",
      "------------------------Finished seed_users in 14.931 ms------------------------\n",
      "\n"
     ]
    }
   ],
   "source": [
    "migrator.seed_users()"
   ]
  },
  {
   "cell_type": "code",
   "execution_count": 32,
   "metadata": {},
   "outputs": [
    {
     "name": "stdout",
     "output_type": "stream",
     "text": [
      "----------------------------Starting seed_activities----------------------------\n",
      "Generating seed data for user: 135\t✅\n",
      "Generating seed data for user: 132\t✅\n",
      "Generating seed data for user: 104\t✅\n",
      "Generating seed data for user: 103\t✅\n",
      "Generating seed data for user: 168\t✅\n",
      "Generating seed data for user: 157\t✅\n",
      "Generating seed data for user: 150\t✅\n",
      "Generating seed data for user: 159\t✅\n",
      "Generating seed data for user: 166\t✅\n",
      "Generating seed data for user: 161\t✅\n",
      "Generating seed data for user: 102\t✅\n",
      "Generating seed data for user: 105\t✅\n",
      "Generating seed data for user: 133\t✅\n",
      "Generating seed data for user: 134\t✅\n",
      "Generating seed data for user: 160\t✅\n",
      "Generating seed data for user: 158\t✅\n",
      "Generating seed data for user: 167\t✅\n",
      "Generating seed data for user: 151\t✅\n",
      "Generating seed data for user: 169\t✅\n",
      "Generating seed data for user: 156\t✅\n",
      "Generating seed data for user: 024\t✅\n",
      "Generating seed data for user: 023\t✅\n",
      "Generating seed data for user: 015\t✅\n",
      "Generating seed data for user: 012\t✅\n",
      "Generating seed data for user: 079\t✅\n",
      "Generating seed data for user: 046\t✅\n",
      "Generating seed data for user: 041\t✅\n",
      "Generating seed data for user: 048\t✅\n",
      "Generating seed data for user: 077\t✅\n",
      "Generating seed data for user: 083\t✅\n",
      "Generating seed data for user: 084\t✅\n",
      "Generating seed data for user: 070\t✅\n",
      "Generating seed data for user: 013\t✅\n",
      "Generating seed data for user: 014\t✅\n",
      "Generating seed data for user: 022\t✅\n",
      "Generating seed data for user: 025\t✅\n",
      "Generating seed data for user: 071\t✅\n",
      "Generating seed data for user: 085\t✅\n",
      "Generating seed data for user: 049\t✅\n",
      "Generating seed data for user: 082\t✅\n",
      "Generating seed data for user: 076\t✅\n",
      "Generating seed data for user: 040\t✅\n",
      "Generating seed data for user: 078\t✅\n",
      "Generating seed data for user: 047\t✅\n",
      "Generating seed data for user: 065\t✅\n",
      "Generating seed data for user: 091\t✅\n",
      "Generating seed data for user: 096\t✅\n",
      "Generating seed data for user: 062\t✅\n",
      "Generating seed data for user: 054\t✅\n",
      "Generating seed data for user: 053\t✅\n",
      "Generating seed data for user: 098\t✅\n",
      "Generating seed data for user: 038\t✅\n",
      "Generating seed data for user: 007\t✅\n",
      "Generating seed data for user: 000\t✅\n",
      "Generating seed data for user: 009\t✅\n",
      "Generating seed data for user: 036\t✅\n",
      "Generating seed data for user: 031\t✅\n",
      "Generating seed data for user: 052\t✅\n",
      "Generating seed data for user: 099\t✅\n",
      "Generating seed data for user: 055\t✅\n",
      "Generating seed data for user: 063\t✅\n",
      "Generating seed data for user: 097\t✅\n",
      "Generating seed data for user: 090\t✅\n",
      "Generating seed data for user: 064\t✅\n",
      "Generating seed data for user: 030\t✅\n",
      "Generating seed data for user: 008\t✅\n",
      "Generating seed data for user: 037\t✅\n",
      "Generating seed data for user: 001\t✅\n",
      "Generating seed data for user: 039\t✅\n",
      "Generating seed data for user: 006\t✅\n",
      "Generating seed data for user: 174\t✅\n",
      "Generating seed data for user: 180\t✅\n",
      "Generating seed data for user: 173\t✅\n",
      "Generating seed data for user: 145\t✅\n",
      "Generating seed data for user: 142\t✅\n",
      "Generating seed data for user: 129\t✅\n",
      "Generating seed data for user: 116\t✅\n",
      "Generating seed data for user: 111\t✅\n",
      "Generating seed data for user: 118\t✅\n",
      "Generating seed data for user: 127\t✅\n",
      "Generating seed data for user: 120\t✅\n",
      "Generating seed data for user: 143\t✅\n",
      "Generating seed data for user: 144\t✅\n",
      "Generating seed data for user: 172\t✅\n",
      "Generating seed data for user: 181\t✅\n",
      "Generating seed data for user: 175\t✅\n",
      "Generating seed data for user: 121\t✅\n",
      "Generating seed data for user: 119\t✅\n",
      "Generating seed data for user: 126\t✅\n",
      "Generating seed data for user: 110\t✅\n",
      "Generating seed data for user: 128\t✅\n",
      "Generating seed data for user: 117\t✅\n",
      "Generating seed data for user: 153\t✅\n",
      "Generating seed data for user: 154\t✅\n",
      "Generating seed data for user: 162\t✅\n",
      "Generating seed data for user: 165\t✅\n",
      "Generating seed data for user: 131\t✅\n",
      "Generating seed data for user: 136\t✅\n",
      "Generating seed data for user: 109\t✅\n",
      "Generating seed data for user: 100\t✅\n",
      "Generating seed data for user: 107\t✅\n",
      "Generating seed data for user: 138\t✅\n",
      "Generating seed data for user: 164\t✅\n",
      "Generating seed data for user: 163\t✅\n",
      "Generating seed data for user: 155\t✅\n",
      "Generating seed data for user: 152\t✅\n",
      "Generating seed data for user: 106\t✅\n",
      "Generating seed data for user: 139\t✅\n",
      "Generating seed data for user: 101\t✅\n",
      "Generating seed data for user: 137\t✅\n",
      "Generating seed data for user: 108\t✅\n",
      "Generating seed data for user: 130\t✅\n",
      "Generating seed data for user: 089\t✅\n",
      "Generating seed data for user: 042\t✅\n",
      "Generating seed data for user: 045\t✅\n",
      "Generating seed data for user: 087\t✅\n",
      "Generating seed data for user: 073\t✅\n",
      "Generating seed data for user: 074\t✅\n",
      "Generating seed data for user: 080\t✅\n",
      "Generating seed data for user: 020\t✅\n",
      "Generating seed data for user: 027\t✅\n",
      "Generating seed data for user: 018\t✅\n",
      "Generating seed data for user: 011\t✅\n",
      "Generating seed data for user: 016\t✅\n",
      "Generating seed data for user: 029\t✅\n",
      "Generating seed data for user: 081\t✅\n",
      "Generating seed data for user: 075\t✅\n",
      "Generating seed data for user: 072\t✅\n",
      "Generating seed data for user: 086\t✅\n",
      "Generating seed data for user: 044\t✅\n",
      "Generating seed data for user: 088\t✅\n",
      "Generating seed data for user: 043\t✅\n",
      "Generating seed data for user: 017\t✅\n",
      "Generating seed data for user: 028\t✅\n",
      "Generating seed data for user: 010\t✅\n",
      "Generating seed data for user: 026\t✅\n",
      "Generating seed data for user: 019\t✅\n",
      "Generating seed data for user: 021\t✅\n",
      "Generating seed data for user: 003\t✅\n",
      "Generating seed data for user: 004\t✅\n",
      "Generating seed data for user: 032\t✅\n",
      "Generating seed data for user: 035\t✅\n",
      "Generating seed data for user: 095\t✅\n",
      "Generating seed data for user: 061\t✅\n",
      "Generating seed data for user: 066\t✅\n",
      "Generating seed data for user: 092\t✅\n",
      "Generating seed data for user: 059\t✅\n",
      "Generating seed data for user: 050\t✅\n",
      "Generating seed data for user: 057\t✅\n",
      "Generating seed data for user: 068\t✅\n",
      "Generating seed data for user: 034\t✅\n",
      "Generating seed data for user: 033\t✅\n",
      "Generating seed data for user: 005\t✅\n",
      "Generating seed data for user: 002\t✅\n",
      "Generating seed data for user: 056\t✅\n",
      "Generating seed data for user: 069\t✅\n",
      "Generating seed data for user: 051\t✅\n",
      "Generating seed data for user: 093\t✅\n",
      "Generating seed data for user: 067\t✅\n",
      "Generating seed data for user: 058\t✅\n",
      "Generating seed data for user: 060\t✅\n",
      "Generating seed data for user: 094\t✅\n",
      "Generating seed data for user: 112\t✅\n",
      "Generating seed data for user: 115\t✅\n",
      "Generating seed data for user: 123\t✅\n",
      "Generating seed data for user: 124\t✅\n",
      "Generating seed data for user: 170\t✅\n",
      "Generating seed data for user: 177\t✅\n",
      "Generating seed data for user: 148\t✅\n",
      "Generating seed data for user: 141\t✅\n",
      "Generating seed data for user: 146\t✅\n",
      "Generating seed data for user: 179\t✅\n",
      "Generating seed data for user: 125\t✅\n",
      "Generating seed data for user: 122\t✅\n",
      "Generating seed data for user: 114\t✅\n",
      "Generating seed data for user: 113\t✅\n",
      "Generating seed data for user: 147\t✅\n",
      "Generating seed data for user: 178\t✅\n",
      "Generating seed data for user: 140\t✅\n",
      "Generating seed data for user: 176\t✅\n",
      "Generating seed data for user: 149\t✅\n",
      "Generating seed data for user: 171\t✅\n",
      "Seeded 16048 Activities\n",
      "--------------------Finished seed_activities in 21394.289 ms--------------------\n",
      "\n"
     ]
    }
   ],
   "source": [
    "migrator.seed_activities()\n"
   ]
  },
  {
   "cell_type": "code",
   "execution_count": null,
   "metadata": {},
   "outputs": [],
   "source": [
    "migrator.seed_track_points()"
   ]
  },
  {
   "cell_type": "markdown",
   "metadata": {},
   "source": [
    "## Part 2"
   ]
  },
  {
   "cell_type": "code",
   "execution_count": null,
   "metadata": {},
   "outputs": [],
   "source": [
    "tasks = t.Task(database)"
   ]
  },
  {
   "cell_type": "markdown",
   "metadata": {},
   "source": [
    "### Task 1"
   ]
  },
  {
   "cell_type": "code",
   "execution_count": null,
   "metadata": {},
   "outputs": [],
   "source": [
    "tasks.task1()"
   ]
  },
  {
   "cell_type": "markdown",
   "metadata": {},
   "source": [
    "### Task 2"
   ]
  },
  {
   "cell_type": "code",
   "execution_count": null,
   "metadata": {},
   "outputs": [],
   "source": [
    "tasks.task2()"
   ]
  },
  {
   "cell_type": "markdown",
   "metadata": {},
   "source": [
    "### Task 3"
   ]
  },
  {
   "cell_type": "code",
   "execution_count": null,
   "metadata": {},
   "outputs": [],
   "source": [
    "tasks.task3()"
   ]
  },
  {
   "cell_type": "markdown",
   "metadata": {},
   "source": [
    "### Task 4"
   ]
  },
  {
   "cell_type": "code",
   "execution_count": null,
   "metadata": {},
   "outputs": [],
   "source": [
    "tasks.task4()"
   ]
  },
  {
   "cell_type": "markdown",
   "metadata": {},
   "source": [
    "### Task 5"
   ]
  },
  {
   "cell_type": "code",
   "execution_count": null,
   "metadata": {},
   "outputs": [],
   "source": [
    "tasks.task5()"
   ]
  },
  {
   "cell_type": "markdown",
   "metadata": {},
   "source": [
    "### Task 7"
   ]
  },
  {
   "cell_type": "code",
   "execution_count": null,
   "metadata": {},
   "outputs": [],
   "source": [
    "tasks.task7a()"
   ]
  },
  {
   "cell_type": "code",
   "execution_count": null,
   "metadata": {},
   "outputs": [],
   "source": [
    "tasks.task7b()"
   ]
  },
  {
   "cell_type": "markdown",
   "metadata": {},
   "source": [
    "### Task 8"
   ]
  },
  {
   "cell_type": "code",
   "execution_count": null,
   "metadata": {},
   "outputs": [],
   "source": [
    "tasks.task8()"
   ]
  },
  {
   "cell_type": "code",
   "execution_count": null,
   "metadata": {},
   "outputs": [],
   "source": []
  },
  {
   "cell_type": "code",
   "execution_count": null,
   "metadata": {},
   "outputs": [],
   "source": []
  }
 ],
 "metadata": {
  "kernelspec": {
   "display_name": ".venv",
   "language": "python",
   "name": "python3"
  },
  "language_info": {
   "codemirror_mode": {
    "name": "ipython",
    "version": 3
   },
   "file_extension": ".py",
   "mimetype": "text/x-python",
   "name": "python",
   "nbconvert_exporter": "python",
   "pygments_lexer": "ipython3",
   "version": "3.11.5"
  },
  "orig_nbformat": 4
 },
 "nbformat": 4,
 "nbformat_minor": 2
}
