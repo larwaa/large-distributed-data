{
 "cells": [
  {
   "cell_type": "markdown",
   "metadata": {},
   "source": [
    "# Introduction\n",
    "This notebook performs the tasks in the exercise"
   ]
  },
  {
   "cell_type": "code",
   "execution_count": 2,
   "metadata": {},
   "outputs": [],
   "source": [
    "%load_ext autoreload\n",
    "%autoreload 2"
   ]
  },
  {
   "cell_type": "code",
   "execution_count": 16,
   "metadata": {},
   "outputs": [],
   "source": [
    "from migrator import Migrator\n",
    "from database import Database\n",
    "from environs import Env\n",
    "import tasks as t\n",
    "import pandas as pd"
   ]
  },
  {
   "cell_type": "markdown",
   "metadata": {},
   "source": [
    "## Part 1\n",
    "Setting up and seeding the database."
   ]
  },
  {
   "cell_type": "code",
   "execution_count": 4,
   "metadata": {},
   "outputs": [],
   "source": [
    "env = Env()\n",
    "env.read_env(\".env\")"
   ]
  },
  {
   "cell_type": "code",
   "execution_count": 5,
   "metadata": {},
   "outputs": [
    {
     "name": "stdout",
     "output_type": "stream",
     "text": [
      "Connected to: 8.1.0\n",
      "You are connected to the database: ('mysql',)\n",
      "-----------------------------------------------\n",
      "\n"
     ]
    }
   ],
   "source": [
    "database = Database(\n",
    "    host=env.str(\"DB_HOST\"),\n",
    "    port=3307,\n",
    "    user=env.str(\"DB_USER\"),\n",
    "    password=env.str(\"DB_PASSWORD\"),\n",
    "    database=env.str(\"DB_DATABASE\")\n",
    ")"
   ]
  },
  {
   "cell_type": "markdown",
   "metadata": {},
   "source": [
    "### Create tables"
   ]
  },
  {
   "cell_type": "code",
   "execution_count": null,
   "metadata": {},
   "outputs": [],
   "source": [
    "migrator = Migrator(database, 500)"
   ]
  },
  {
   "cell_type": "code",
   "execution_count": null,
   "metadata": {},
   "outputs": [],
   "source": [
    "migrator.migrate()"
   ]
  },
  {
   "cell_type": "markdown",
   "metadata": {},
   "source": [
    "### (DANGER) Wipe the DB\n",
    "🚨 THIS WILL WIPE ALL DATA IN THE TABLES 🚨"
   ]
  },
  {
   "cell_type": "code",
   "execution_count": null,
   "metadata": {},
   "outputs": [],
   "source": [
    "migrator.wipe()"
   ]
  },
  {
   "cell_type": "markdown",
   "metadata": {},
   "source": [
    "### Seed Database from Data Set"
   ]
  },
  {
   "cell_type": "code",
   "execution_count": null,
   "metadata": {},
   "outputs": [],
   "source": [
    "migrator.seed_users()"
   ]
  },
  {
   "cell_type": "code",
   "execution_count": null,
   "metadata": {},
   "outputs": [],
   "source": [
    "migrator.seed_activities()"
   ]
  },
  {
   "cell_type": "code",
   "execution_count": null,
   "metadata": {},
   "outputs": [],
   "source": [
    "migrator.seed_track_points()"
   ]
  },
  {
   "cell_type": "code",
   "execution_count": null,
   "metadata": {},
   "outputs": [],
   "source": [
    "migrator.create_indices()"
   ]
  },
  {
   "cell_type": "markdown",
   "metadata": {},
   "source": [
    "## Part 2"
   ]
  },
  {
   "cell_type": "code",
   "execution_count": null,
   "metadata": {},
   "outputs": [],
   "source": [
    "tasks = t.Task(database)"
   ]
  },
  {
   "cell_type": "markdown",
   "metadata": {},
   "source": [
    "### Task 1"
   ]
  },
  {
   "cell_type": "code",
   "execution_count": null,
   "metadata": {},
   "outputs": [],
   "source": [
    "tasks.task1()"
   ]
  },
  {
   "cell_type": "markdown",
   "metadata": {},
   "source": [
    "### Task 2"
   ]
  },
  {
   "cell_type": "code",
   "execution_count": null,
   "metadata": {},
   "outputs": [],
   "source": [
    "tasks.task2()"
   ]
  },
  {
   "cell_type": "markdown",
   "metadata": {},
   "source": [
    "### Task 3"
   ]
  },
  {
   "cell_type": "code",
   "execution_count": null,
   "metadata": {},
   "outputs": [],
   "source": [
    "tasks.task3()"
   ]
  },
  {
   "cell_type": "markdown",
   "metadata": {},
   "source": [
    "### Task 4"
   ]
  },
  {
   "cell_type": "code",
   "execution_count": null,
   "metadata": {},
   "outputs": [],
   "source": [
    "tasks.task4()"
   ]
  },
  {
   "cell_type": "markdown",
   "metadata": {},
   "source": [
    "### Task 5"
   ]
  },
  {
   "cell_type": "code",
   "execution_count": null,
   "metadata": {},
   "outputs": [],
   "source": [
    "tasks.task5()"
   ]
  },
  {
   "cell_type": "markdown",
   "metadata": {},
   "source": [
    "### Task 7"
   ]
  },
  {
   "cell_type": "code",
   "execution_count": null,
   "metadata": {},
   "outputs": [],
   "source": [
    "tasks.task7a()"
   ]
  },
  {
   "cell_type": "code",
   "execution_count": null,
   "metadata": {},
   "outputs": [],
   "source": [
    "tasks.task7b()"
   ]
  },
  {
   "cell_type": "markdown",
   "metadata": {},
   "source": [
    "### Task 8"
   ]
  },
  {
   "cell_type": "code",
   "execution_count": null,
   "metadata": {},
   "outputs": [],
   "source": [
    "tasks.task8()\n",
    "\n"
   ]
  },
  {
   "cell_type": "code",
   "execution_count": null,
   "metadata": {},
   "outputs": [],
   "source": [
    "# query = \"\"\"\n",
    "#     SELECT DISTINCT left.user_id AS UserID1, right.user_id AS UserID2\n",
    "#     FROM full AS left\n",
    "#     INNER JOIN full AS right\n",
    "#         ON left.user_id != right.user_id\n",
    "#         AND left.datetime <= right.datetime\n",
    "#         AND MBRContains(ST_BUFFER(left.geom, 50), right.geom)\n",
    "#         AND TIME_TO_SEC(TIMEDIFF(right.datetime, left.datetime)) <= 30\n",
    "# \"\"\"\n",
    "\n",
    "\n",
    "\n",
    "query = \"\"\"\n",
    "SELECT DISTINCT p1.user_id as UserID1, p2.user_id AS UserID2\n",
    "FROM full AS p1\n",
    "INNER JOIN full AS p2\n",
    "    ON p1.user_id != p2.user_id\n",
    "LIMIT 10\n",
    "\"\"\"\n",
    "\n",
    "database.query(query)"
   ]
  },
  {
   "cell_type": "code",
   "execution_count": null,
   "metadata": {},
   "outputs": [],
   "source": [
    "database.cursor.fetchall()\n"
   ]
  },
  {
   "cell_type": "code",
   "execution_count": null,
   "metadata": {},
   "outputs": [],
   "source": [
    "left_table = \"\"\"\n",
    "    CREATE TEMPORARY TABLE p1 AS\n",
    "        SELECT u.id as user_id, tp.datetime as datetime, tp.geom as geom\n",
    "        FROM TrackPoints as tp\n",
    "        INNER JOIN Activities as a\n",
    "            ON a.id = tp.activity_id\n",
    "        INNER JOIN Users as u\n",
    "            on u.id = a.user_id\n",
    "\"\"\"\n",
    "database.query(left_table)"
   ]
  },
  {
   "cell_type": "code",
   "execution_count": null,
   "metadata": {},
   "outputs": [],
   "source": [
    "right_table = \"\"\"\n",
    "    CREATE TEMPORARY TABLE p2 AS\n",
    "        SELECT u.id as user_id, tp.datetime as datetime, tp.geom as geom\n",
    "        FROM TrackPoints as tp\n",
    "        INNER JOIN Activities as a\n",
    "            ON a.id = tp.activity_id\n",
    "        INNER JOIN Users as u\n",
    "            on u.id = a.user_id\n",
    "\"\"\"\n",
    "database.query(right_table)"
   ]
  },
  {
   "cell_type": "code",
   "execution_count": null,
   "metadata": {},
   "outputs": [],
   "source": [
    "# query = \"\"\"\n",
    "# SELECT COUNT(DISTINCT a1.user_id, a2.user_id) as num_users\n",
    "# FROM Activities AS a1\n",
    "# JOIN Activities AS a2 ON a1.user_id < a2.user_id\n",
    "# JOIN TrackPoints AS tp1 ON a1.id = tp1.activity_id\n",
    "# JOIN TrackPoints AS tp2 ON a2.id = tp2.activity_id AND tp1.id < tp2.id\n",
    "# WHERE MBRContains(ST_BUFFER(tp1.geom, 50), tp2.geom)\n",
    "# AND ABS(TIME_TO_SEC(TIMEDIFF(tp1.datetime, tp2.datetime))) <= 30\n",
    "# AND ST_Distance_Sphere(tp1.geom, tp2.geom) <= 50\n",
    "# \"\"\"\n",
    "# query = \"\"\"\n",
    "# WITH user_pairs AS (\n",
    "#     SELECT a1.user_id AS user_id1, a2.user_id AS user_id2\n",
    "#     FROM Activities AS a1\n",
    "#     JOIN Activities AS a2 ON a1.user_id < a2.user_id\n",
    "#     JOIN TrackPoints AS tp1 ON a1.id = tp1.activity_id\n",
    "#     JOIN TrackPoints AS tp2 ON a2.id = tp2.activity_id AND tp1.id < tp2.id\n",
    "#     WHERE MBRContains(ST_BUFFER(tp1.geom, 50), tp2.geom)\n",
    "#     AND ABS(TIME_TO_SEC(TIMEDIFF(tp1.datetime, tp2.datetime))) <= 30\n",
    "#     AND ST_Distance_Sphere(tp1.geom, tp2.geom) <= 50\n",
    "# )\n",
    "# SELECT COUNT(DISTINCT user_id) as num_users\n",
    "# FROM (\n",
    "#     SELECT user_id1 AS user_id FROM user_pairs\n",
    "#     UNION\n",
    "#     SELECT user_id2 FROM user_pairs\n",
    "# ) AS user_ids;\n",
    "# \"\"\"\n",
    "query = \"\"\"\n",
    "WITH user_pairs AS (\n",
    "    SELECT a1.user_id AS user_id1, a2.user_id AS user_id2\n",
    "    FROM Activities AS a1\n",
    "    JOIN Activities AS a2 ON a1.user_id < a2.user_id\n",
    "    JOIN TrackPoints AS tp1 ON a1.id = tp1.activity_id\n",
    "    JOIN TrackPoints AS tp2 ON a2.id = tp2.activity_id AND tp1.id < tp2.id\n",
    "    WHERE ST_Distance_Sphere(tp1.geom, tp2.geom) <= 50\n",
    "    AND ABS(TIME_TO_SEC(TIMEDIFF(tp1.datetime, tp2.datetime))) <= 30\n",
    ")\n",
    "SELECT COUNT(DISTINCT user_id) as num_users\n",
    "FROM (\n",
    "    SELECT user_id1 AS user_id FROM user_pairs\n",
    "    UNION\n",
    "    SELECT user_id2 FROM user_pairs\n",
    ") AS user_ids;\n",
    "\"\"\"\n",
    "\n",
    "database.query(query)"
   ]
  },
  {
   "cell_type": "code",
   "execution_count": 13,
   "metadata": {},
   "outputs": [
    {
     "name": "stdout",
     "output_type": "stream",
     "text": [
      "Running statement:\n",
      " \n",
      "WITH user_pairs AS (\n",
      "    SELECT DISTINCT a1.user_id AS user_id1, a2.user_id AS user_id2\n",
      "    FROM Activities a1\n",
      "    -- Make a combination of all activities\n",
      "    JOIN Activities a2 ON a1.id < a2.id\n",
      "        -- We restrict the search space to activities that overlap with a 30 second margin\n",
      "        -- to limit the number of track point comparisons that we have to perform.\n",
      "        -- Activities that do not overlap within at least a 30 second margin\n",
      "        -- should not contain track points that are within 30 seconds of each other.\n",
      "        AND a2.start_datetime <= a1.end_datetime + INTERVAL 30 SECOND\n",
      "        AND a2.end_datetime >= a1.start_datetime - INTERVAL 30 SECOND\n",
      "        -- Avoid comparing a user to themselves\n",
      "        AND a1.user_id < a2.user_id\n",
      "    -- Join in the track points on the two sets of activities\n",
      "    JOIN TrackPoints p1 ON p1.activity_id = a1.id\n",
      "    JOIN TrackPoints p2 ON p2.activity_id = a2.id\n",
      "    -- Then, after restricting the search space, we check for\n",
      "    -- track points that are close both in time\n",
      "    WHERE ABS(TIME_TO_SEC(TIMEDIFF(p1.datetime, p2.datetime))) <= 30\n",
      "    -- and in space\n",
      "    AND ST_Distance_Sphere(p1.geom, p2.geom) <= 50\n",
      ")\n",
      "-- Finally, we select the list of distinct user_ids of users\n",
      "-- who have been near other users in space and time\n",
      "SELECT DISTINCT user_id\n",
      "FROM (\n",
      "    -- Combine the two columns of user ID pairs into a single column of user IDs\n",
      "    -- to find the total count of unique users who have been near others\n",
      "    SELECT user_id1 AS user_id FROM user_pairs\n",
      "    UNION\n",
      "    SELECT user_id2 FROM user_pairs\n",
      ") AS user_ids\n",
      "-- Order the results by ascending ID\n",
      "ORDER BY user_id ASC;\n",
      "\n",
      "Query Finished\n"
     ]
    },
    {
     "data": {
      "text/html": [
       "<div>\n",
       "<style scoped>\n",
       "    .dataframe tbody tr th:only-of-type {\n",
       "        vertical-align: middle;\n",
       "    }\n",
       "\n",
       "    .dataframe tbody tr th {\n",
       "        vertical-align: top;\n",
       "    }\n",
       "\n",
       "    .dataframe thead th {\n",
       "        text-align: right;\n",
       "    }\n",
       "</style>\n",
       "<table border=\"1\" class=\"dataframe\">\n",
       "  <thead>\n",
       "    <tr style=\"text-align: right;\">\n",
       "      <th></th>\n",
       "      <th>user_id</th>\n",
       "    </tr>\n",
       "  </thead>\n",
       "  <tbody>\n",
       "    <tr>\n",
       "      <th>0</th>\n",
       "      <td>000</td>\n",
       "    </tr>\n",
       "    <tr>\n",
       "      <th>1</th>\n",
       "      <td>001</td>\n",
       "    </tr>\n",
       "    <tr>\n",
       "      <th>2</th>\n",
       "      <td>003</td>\n",
       "    </tr>\n",
       "    <tr>\n",
       "      <th>3</th>\n",
       "      <td>004</td>\n",
       "    </tr>\n",
       "    <tr>\n",
       "      <th>4</th>\n",
       "      <td>005</td>\n",
       "    </tr>\n",
       "    <tr>\n",
       "      <th>...</th>\n",
       "      <td>...</td>\n",
       "    </tr>\n",
       "    <tr>\n",
       "      <th>116</th>\n",
       "      <td>173</td>\n",
       "    </tr>\n",
       "    <tr>\n",
       "      <th>117</th>\n",
       "      <td>174</td>\n",
       "    </tr>\n",
       "    <tr>\n",
       "      <th>118</th>\n",
       "      <td>175</td>\n",
       "    </tr>\n",
       "    <tr>\n",
       "      <th>119</th>\n",
       "      <td>176</td>\n",
       "    </tr>\n",
       "    <tr>\n",
       "      <th>120</th>\n",
       "      <td>179</td>\n",
       "    </tr>\n",
       "  </tbody>\n",
       "</table>\n",
       "<p>121 rows × 1 columns</p>\n",
       "</div>"
      ],
      "text/plain": [
       "    user_id\n",
       "0       000\n",
       "1       001\n",
       "2       003\n",
       "3       004\n",
       "4       005\n",
       "..      ...\n",
       "116     173\n",
       "117     174\n",
       "118     175\n",
       "119     176\n",
       "120     179\n",
       "\n",
       "[121 rows x 1 columns]"
      ]
     },
     "execution_count": 13,
     "metadata": {},
     "output_type": "execute_result"
    }
   ],
   "source": [
    "query = \"\"\"\n",
    "WITH user_pairs AS (\n",
    "    SELECT DISTINCT a1.user_id AS user_id1, a2.user_id AS user_id2\n",
    "    FROM Activities a1\n",
    "    -- Make a combination of all activities\n",
    "    JOIN Activities a2 ON a1.id < a2.id\n",
    "        -- We restrict the search space to activities that overlap with a 30 second margin\n",
    "        -- to limit the number of track point comparisons that we have to perform.\n",
    "        -- Activities that do not overlap within at least a 30 second margin\n",
    "        -- should not contain track points that are within 30 seconds of each other.\n",
    "        AND a2.start_datetime <= a1.end_datetime + INTERVAL 30 SECOND\n",
    "        AND a2.end_datetime >= a1.start_datetime - INTERVAL 30 SECOND\n",
    "        -- Avoid comparing a user to themselves\n",
    "        AND a1.user_id < a2.user_id\n",
    "    -- Join in the track points on the two sets of activities\n",
    "    JOIN TrackPoints p1 ON p1.activity_id = a1.id\n",
    "    JOIN TrackPoints p2 ON p2.activity_id = a2.id\n",
    "    -- Then, after restricting the search space, we check for\n",
    "    -- track points that are close both in time\n",
    "    WHERE ABS(TIME_TO_SEC(TIMEDIFF(p1.datetime, p2.datetime))) <= 30\n",
    "    -- and in space\n",
    "    AND ST_Distance_Sphere(p1.geom, p2.geom) <= 50\n",
    ")\n",
    "-- Finally, we select the list of distinct user_ids of users\n",
    "-- who have been near other users in space and time\n",
    "SELECT DISTINCT user_id\n",
    "FROM (\n",
    "    -- Combine the two columns of user ID pairs into a single column of user IDs\n",
    "    -- to find the total count of unique users who have been near others\n",
    "    SELECT user_id1 AS user_id FROM user_pairs\n",
    "    UNION\n",
    "    SELECT user_id2 FROM user_pairs\n",
    ") AS user_ids\n",
    "-- Order the results by ascending ID\n",
    "ORDER BY user_id ASC;\n",
    "\"\"\"\n",
    "database.query(query)"
   ]
  },
  {
   "cell_type": "code",
   "execution_count": 45,
   "metadata": {},
   "outputs": [
    {
     "name": "stdout",
     "output_type": "stream",
     "text": [
      "Running statement:\n",
      " \n",
      "WITH track_points_of_interest AS (\n",
      "    SELECT id, activity_id, datetime, geom\n",
      "    FROM TrackPoints\n",
      "    WHERE activity_id IN (\n",
      "        SELECT a1.id AS id\n",
      "        FROM Activities a1\n",
      "        WHERE EXISTS (\n",
      "            SELECT 1\n",
      "            FROM Activities a2\n",
      "            WHERE a2.start_datetime <= a1.end_datetime + INTERVAL 30 SECOND\n",
      "            AND a2.end_datetime >= a1.start_datetime - INTERVAL 30 SECOND\n",
      "            AND a1.id < id\n",
      "            AND a1.user_Id < user_id\n",
      "        )\n",
      "    )\n",
      ")\n",
      "SELECT COUNT(*)\n",
      "FROM track_points_of_interest p1\n",
      "JOIN track_points_of_interest p2 ON p1.id < p2.id\n",
      "AND p1.activity_id != p2.activity_id\n",
      "\n"
     ]
    }
   ],
   "source": [
    "query = \"\"\"\n",
    "WITH track_points_of_interest AS (\n",
    "    SELECT id, activity_id, datetime, geom\n",
    "    FROM TrackPoints\n",
    "    WHERE activity_id IN (\n",
    "        SELECT a1.id AS id\n",
    "        FROM Activities a1\n",
    "        WHERE EXISTS (\n",
    "            SELECT 1\n",
    "            FROM Activities a2\n",
    "            WHERE a2.start_datetime <= a1.end_datetime + INTERVAL 30 SECOND\n",
    "            AND a2.end_datetime >= a1.start_datetime - INTERVAL 30 SECOND\n",
    "            AND a1.id < id\n",
    "            AND a1.user_Id < user_id\n",
    "        )\n",
    "    )\n",
    ")\n",
    "SELECT COUNT(*)\n",
    "FROM track_points_of_interest p1\n",
    "JOIN track_points_of_interest p2 ON p1.id < p2.id\n",
    "AND p1.activity_id != p2.activity_id\n",
    "\"\"\"\n",
    "database.query(query)"
   ]
  },
  {
   "cell_type": "code",
   "execution_count": null,
   "metadata": {},
   "outputs": [],
   "source": [
    "query = \"\"\"\n",
    "WITH track_points_of_interest AS (\n",
    "    SELECT id, activity_id, datetime, geom\n",
    "    FROM TrackPoints\n",
    "    WHERE activity_id IN (\n",
    "        SELECT a1.id AS id\n",
    "        FROM Activities a1\n",
    "        WHERE EXISTS (\n",
    "            SELECT 1\n",
    "            FROM Activities a2\n",
    "            WHERE a2.start_datetime <= a1.end_datetime + INTERVAL 30 SECOND\n",
    "            AND a2.end_datetime >= a1.start_datetime - INTERVAL 30 SECOND\n",
    "            AND a1.id < id\n",
    "            AND a1.user_Id < user_id\n",
    "        )\n",
    "    )\n",
    ")\n",
    "SELECT COUNT(*)\n",
    "FROM track_points_of_interest p1\n",
    "WHERE EXISTS (\n",
    "    SELECT 1\n",
    "    FROM track_points_of_interest p2\n",
    "    WHERE p2.id < p1.id\n",
    "    AND p2.activity_id != p1.activity_id\n",
    "    AND ABS(TIME_TO_SEC(TIMEDIFF(p1.datetime, p2.datetime))) <= 30\n",
    "    -- and in space\n",
    "    AND ST_Distance_Sphere(p1.geom, p2.geom) <= 50\n",
    ");\n",
    "\"\"\"\n",
    "database.query(query)"
   ]
  },
  {
   "cell_type": "code",
   "execution_count": 27,
   "metadata": {},
   "outputs": [
    {
     "name": "stdout",
     "output_type": "stream",
     "text": [
      "Running statement:\n",
      " \n",
      "        SELECT tp.id AS tp_id, a.id AS activity_id, a.user_id AS user_id, datetime, ST_Latitude(geom) AS latitude, ST_Longitude(geom) AS longitude\n",
      "        FROM Activities a\n",
      "        JOIN TrackPoints tp ON a.id = tp.activity_id\n",
      "        WHERE a.id IN (\n",
      "            SELECT a1.id AS id\n",
      "            FROM Activities a1\n",
      "            WHERE EXISTS (\n",
      "                SELECT 1\n",
      "                FROM Activities a2\n",
      "                WHERE a2.start_datetime <= a1.end_datetime + INTERVAL 30 SECOND\n",
      "                AND a2.end_datetime >= a1.start_datetime - INTERVAL 30 SECOND\n",
      "                AND a1.id < id\n",
      "                AND a1.user_Id < user_id\n",
      "            )\n",
      "        )\n",
      "    \n",
      "Query Finished\n"
     ]
    }
   ],
   "source": [
    "track_points_of_interest = database.query(\n",
    "    \"\"\"\n",
    "        SELECT tp.id AS tp_id, a.id AS activity_id, a.user_id AS user_id, datetime, ST_Latitude(geom) AS latitude, ST_Longitude(geom) AS longitude\n",
    "        FROM Activities a\n",
    "        JOIN TrackPoints tp ON a.id = tp.activity_id\n",
    "        WHERE a.id IN (\n",
    "            SELECT a1.id AS id\n",
    "            FROM Activities a1\n",
    "            WHERE EXISTS (\n",
    "                SELECT 1\n",
    "                FROM Activities a2\n",
    "                WHERE a2.start_datetime <= a1.end_datetime + INTERVAL 30 SECOND\n",
    "                AND a2.end_datetime >= a1.start_datetime - INTERVAL 30 SECOND\n",
    "                AND a1.id < id\n",
    "                AND a1.user_Id < user_id\n",
    "            )\n",
    "        )\n",
    "    \"\"\"\n",
    ")"
   ]
  },
  {
   "cell_type": "code",
   "execution_count": 28,
   "metadata": {},
   "outputs": [
    {
     "data": {
      "text/html": [
       "<div>\n",
       "<style scoped>\n",
       "    .dataframe tbody tr th:only-of-type {\n",
       "        vertical-align: middle;\n",
       "    }\n",
       "\n",
       "    .dataframe tbody tr th {\n",
       "        vertical-align: top;\n",
       "    }\n",
       "\n",
       "    .dataframe thead th {\n",
       "        text-align: right;\n",
       "    }\n",
       "</style>\n",
       "<table border=\"1\" class=\"dataframe\">\n",
       "  <thead>\n",
       "    <tr style=\"text-align: right;\">\n",
       "      <th></th>\n",
       "      <th>tp_id</th>\n",
       "      <th>activity_id</th>\n",
       "      <th>user_id</th>\n",
       "      <th>datetime</th>\n",
       "      <th>latitude</th>\n",
       "      <th>longitude</th>\n",
       "    </tr>\n",
       "  </thead>\n",
       "  <tbody>\n",
       "    <tr>\n",
       "      <th>0</th>\n",
       "      <td>3021481</td>\n",
       "      <td>000-20081023025304</td>\n",
       "      <td>000</td>\n",
       "      <td>2008-10-23 02:53:04</td>\n",
       "      <td>39.984702</td>\n",
       "      <td>116.318417</td>\n",
       "    </tr>\n",
       "    <tr>\n",
       "      <th>1</th>\n",
       "      <td>3021482</td>\n",
       "      <td>000-20081023025304</td>\n",
       "      <td>000</td>\n",
       "      <td>2008-10-23 02:53:10</td>\n",
       "      <td>39.984683</td>\n",
       "      <td>116.318450</td>\n",
       "    </tr>\n",
       "    <tr>\n",
       "      <th>2</th>\n",
       "      <td>3021483</td>\n",
       "      <td>000-20081023025304</td>\n",
       "      <td>000</td>\n",
       "      <td>2008-10-23 02:53:15</td>\n",
       "      <td>39.984686</td>\n",
       "      <td>116.318417</td>\n",
       "    </tr>\n",
       "    <tr>\n",
       "      <th>3</th>\n",
       "      <td>3021484</td>\n",
       "      <td>000-20081023025304</td>\n",
       "      <td>000</td>\n",
       "      <td>2008-10-23 02:53:20</td>\n",
       "      <td>39.984688</td>\n",
       "      <td>116.318385</td>\n",
       "    </tr>\n",
       "    <tr>\n",
       "      <th>4</th>\n",
       "      <td>3021485</td>\n",
       "      <td>000-20081023025304</td>\n",
       "      <td>000</td>\n",
       "      <td>2008-10-23 02:53:25</td>\n",
       "      <td>39.984655</td>\n",
       "      <td>116.318263</td>\n",
       "    </tr>\n",
       "    <tr>\n",
       "      <th>...</th>\n",
       "      <td>...</td>\n",
       "      <td>...</td>\n",
       "      <td>...</td>\n",
       "      <td>...</td>\n",
       "      <td>...</td>\n",
       "      <td>...</td>\n",
       "    </tr>\n",
       "    <tr>\n",
       "      <th>5927774</th>\n",
       "      <td>9681391</td>\n",
       "      <td>176-20071208013029</td>\n",
       "      <td>176</td>\n",
       "      <td>2007-12-08 03:13:54</td>\n",
       "      <td>39.971000</td>\n",
       "      <td>116.304200</td>\n",
       "    </tr>\n",
       "    <tr>\n",
       "      <th>5927775</th>\n",
       "      <td>9681392</td>\n",
       "      <td>176-20071208013029</td>\n",
       "      <td>176</td>\n",
       "      <td>2007-12-08 03:15:01</td>\n",
       "      <td>39.971100</td>\n",
       "      <td>116.304933</td>\n",
       "    </tr>\n",
       "    <tr>\n",
       "      <th>5927776</th>\n",
       "      <td>9681393</td>\n",
       "      <td>176-20071208013029</td>\n",
       "      <td>176</td>\n",
       "      <td>2007-12-08 03:15:54</td>\n",
       "      <td>39.970817</td>\n",
       "      <td>116.304250</td>\n",
       "    </tr>\n",
       "    <tr>\n",
       "      <th>5927777</th>\n",
       "      <td>9681394</td>\n",
       "      <td>176-20071208013029</td>\n",
       "      <td>176</td>\n",
       "      <td>2007-12-08 03:16:57</td>\n",
       "      <td>39.970867</td>\n",
       "      <td>116.303250</td>\n",
       "    </tr>\n",
       "    <tr>\n",
       "      <th>5927778</th>\n",
       "      <td>9681395</td>\n",
       "      <td>176-20071208013029</td>\n",
       "      <td>176</td>\n",
       "      <td>2007-12-08 03:17:35</td>\n",
       "      <td>39.970983</td>\n",
       "      <td>116.305600</td>\n",
       "    </tr>\n",
       "  </tbody>\n",
       "</table>\n",
       "<p>5927779 rows × 6 columns</p>\n",
       "</div>"
      ],
      "text/plain": [
       "           tp_id         activity_id user_id            datetime   latitude  \\\n",
       "0        3021481  000-20081023025304     000 2008-10-23 02:53:04  39.984702   \n",
       "1        3021482  000-20081023025304     000 2008-10-23 02:53:10  39.984683   \n",
       "2        3021483  000-20081023025304     000 2008-10-23 02:53:15  39.984686   \n",
       "3        3021484  000-20081023025304     000 2008-10-23 02:53:20  39.984688   \n",
       "4        3021485  000-20081023025304     000 2008-10-23 02:53:25  39.984655   \n",
       "...          ...                 ...     ...                 ...        ...   \n",
       "5927774  9681391  176-20071208013029     176 2007-12-08 03:13:54  39.971000   \n",
       "5927775  9681392  176-20071208013029     176 2007-12-08 03:15:01  39.971100   \n",
       "5927776  9681393  176-20071208013029     176 2007-12-08 03:15:54  39.970817   \n",
       "5927777  9681394  176-20071208013029     176 2007-12-08 03:16:57  39.970867   \n",
       "5927778  9681395  176-20071208013029     176 2007-12-08 03:17:35  39.970983   \n",
       "\n",
       "          longitude  \n",
       "0        116.318417  \n",
       "1        116.318450  \n",
       "2        116.318417  \n",
       "3        116.318385  \n",
       "4        116.318263  \n",
       "...             ...  \n",
       "5927774  116.304200  \n",
       "5927775  116.304933  \n",
       "5927776  116.304250  \n",
       "5927777  116.303250  \n",
       "5927778  116.305600  \n",
       "\n",
       "[5927779 rows x 6 columns]"
      ]
     },
     "execution_count": 28,
     "metadata": {},
     "output_type": "execute_result"
    }
   ],
   "source": [
    "track_points_of_interest"
   ]
  },
  {
   "cell_type": "code",
   "execution_count": 19,
   "metadata": {},
   "outputs": [],
   "source": [
    "from itertools import combinations\n",
    "from sklearn.metrics.pairwise import haversine_distances\n",
    "import numpy as np\n",
    "\n",
    "comb_rows = combinations(track_points_of_interest.index, 2)"
   ]
  },
  {
   "cell_type": "code",
   "execution_count": 23,
   "metadata": {},
   "outputs": [],
   "source": [
    "track_points_of_interest[\"datetime\"] = pd.to_datetime(track_points_of_interest[\"datetime\"])\n",
    "track_points_of_interest[[\"latitude\", \"longitude\"]] = np.radians(track_points_of_interest[[\"latitude\", \"longitude\"]])"
   ]
  },
  {
   "cell_type": "code",
   "execution_count": 24,
   "metadata": {},
   "outputs": [
    {
     "data": {
      "text/html": [
       "<div>\n",
       "<style scoped>\n",
       "    .dataframe tbody tr th:only-of-type {\n",
       "        vertical-align: middle;\n",
       "    }\n",
       "\n",
       "    .dataframe tbody tr th {\n",
       "        vertical-align: top;\n",
       "    }\n",
       "\n",
       "    .dataframe thead th {\n",
       "        text-align: right;\n",
       "    }\n",
       "</style>\n",
       "<table border=\"1\" class=\"dataframe\">\n",
       "  <thead>\n",
       "    <tr style=\"text-align: right;\">\n",
       "      <th></th>\n",
       "      <th>id</th>\n",
       "      <th>activity_id</th>\n",
       "      <th>datetime</th>\n",
       "      <th>latitude</th>\n",
       "      <th>longitude</th>\n",
       "    </tr>\n",
       "  </thead>\n",
       "  <tbody>\n",
       "    <tr>\n",
       "      <th>0</th>\n",
       "      <td>3021481</td>\n",
       "      <td>000-20081023025304</td>\n",
       "      <td>2008-10-23 02:53:04</td>\n",
       "      <td>0.697865</td>\n",
       "      <td>2.030139</td>\n",
       "    </tr>\n",
       "    <tr>\n",
       "      <th>1</th>\n",
       "      <td>3021482</td>\n",
       "      <td>000-20081023025304</td>\n",
       "      <td>2008-10-23 02:53:10</td>\n",
       "      <td>0.697864</td>\n",
       "      <td>2.030140</td>\n",
       "    </tr>\n",
       "    <tr>\n",
       "      <th>2</th>\n",
       "      <td>3021483</td>\n",
       "      <td>000-20081023025304</td>\n",
       "      <td>2008-10-23 02:53:15</td>\n",
       "      <td>0.697864</td>\n",
       "      <td>2.030139</td>\n",
       "    </tr>\n",
       "    <tr>\n",
       "      <th>3</th>\n",
       "      <td>3021484</td>\n",
       "      <td>000-20081023025304</td>\n",
       "      <td>2008-10-23 02:53:20</td>\n",
       "      <td>0.697864</td>\n",
       "      <td>2.030139</td>\n",
       "    </tr>\n",
       "    <tr>\n",
       "      <th>4</th>\n",
       "      <td>3021485</td>\n",
       "      <td>000-20081023025304</td>\n",
       "      <td>2008-10-23 02:53:25</td>\n",
       "      <td>0.697864</td>\n",
       "      <td>2.030137</td>\n",
       "    </tr>\n",
       "    <tr>\n",
       "      <th>...</th>\n",
       "      <td>...</td>\n",
       "      <td>...</td>\n",
       "      <td>...</td>\n",
       "      <td>...</td>\n",
       "      <td>...</td>\n",
       "    </tr>\n",
       "    <tr>\n",
       "      <th>5927774</th>\n",
       "      <td>9681391</td>\n",
       "      <td>176-20071208013029</td>\n",
       "      <td>2007-12-08 03:13:54</td>\n",
       "      <td>0.697626</td>\n",
       "      <td>2.029891</td>\n",
       "    </tr>\n",
       "    <tr>\n",
       "      <th>5927775</th>\n",
       "      <td>9681392</td>\n",
       "      <td>176-20071208013029</td>\n",
       "      <td>2007-12-08 03:15:01</td>\n",
       "      <td>0.697627</td>\n",
       "      <td>2.029904</td>\n",
       "    </tr>\n",
       "    <tr>\n",
       "      <th>5927776</th>\n",
       "      <td>9681393</td>\n",
       "      <td>176-20071208013029</td>\n",
       "      <td>2007-12-08 03:15:54</td>\n",
       "      <td>0.697622</td>\n",
       "      <td>2.029892</td>\n",
       "    </tr>\n",
       "    <tr>\n",
       "      <th>5927777</th>\n",
       "      <td>9681394</td>\n",
       "      <td>176-20071208013029</td>\n",
       "      <td>2007-12-08 03:16:57</td>\n",
       "      <td>0.697623</td>\n",
       "      <td>2.029875</td>\n",
       "    </tr>\n",
       "    <tr>\n",
       "      <th>5927778</th>\n",
       "      <td>9681395</td>\n",
       "      <td>176-20071208013029</td>\n",
       "      <td>2007-12-08 03:17:35</td>\n",
       "      <td>0.697625</td>\n",
       "      <td>2.029916</td>\n",
       "    </tr>\n",
       "  </tbody>\n",
       "</table>\n",
       "<p>5927779 rows × 5 columns</p>\n",
       "</div>"
      ],
      "text/plain": [
       "              id         activity_id            datetime  latitude  longitude\n",
       "0        3021481  000-20081023025304 2008-10-23 02:53:04  0.697865   2.030139\n",
       "1        3021482  000-20081023025304 2008-10-23 02:53:10  0.697864   2.030140\n",
       "2        3021483  000-20081023025304 2008-10-23 02:53:15  0.697864   2.030139\n",
       "3        3021484  000-20081023025304 2008-10-23 02:53:20  0.697864   2.030139\n",
       "4        3021485  000-20081023025304 2008-10-23 02:53:25  0.697864   2.030137\n",
       "...          ...                 ...                 ...       ...        ...\n",
       "5927774  9681391  176-20071208013029 2007-12-08 03:13:54  0.697626   2.029891\n",
       "5927775  9681392  176-20071208013029 2007-12-08 03:15:01  0.697627   2.029904\n",
       "5927776  9681393  176-20071208013029 2007-12-08 03:15:54  0.697622   2.029892\n",
       "5927777  9681394  176-20071208013029 2007-12-08 03:16:57  0.697623   2.029875\n",
       "5927778  9681395  176-20071208013029 2007-12-08 03:17:35  0.697625   2.029916\n",
       "\n",
       "[5927779 rows x 5 columns]"
      ]
     },
     "execution_count": 24,
     "metadata": {},
     "output_type": "execute_result"
    }
   ],
   "source": [
    "track_points_of_interest"
   ]
  },
  {
   "cell_type": "code",
   "execution_count": 41,
   "metadata": {},
   "outputs": [
    {
     "data": {
      "text/plain": [
       "(tp_id                      3021481\n",
       " activity_id     000-20081023025304\n",
       " user_id                        000\n",
       " datetime       2008-10-23 02:53:04\n",
       " latitude                 39.984702\n",
       " longitude               116.318417\n",
       " Name: 0, dtype: object,\n",
       " tp_id                      3021485\n",
       " activity_id     000-20081023025304\n",
       " user_id                        000\n",
       " datetime       2008-10-23 02:53:25\n",
       " latitude                 39.984655\n",
       " longitude               116.318263\n",
       " Name: 4, dtype: object)"
      ]
     },
     "execution_count": 41,
     "metadata": {},
     "output_type": "execute_result"
    }
   ],
   "source": [
    "first, second = track_points_of_interest.iloc[0], track_points_of_interest.iloc[4]\n",
    "first, second"
   ]
  },
  {
   "cell_type": "code",
   "execution_count": 61,
   "metadata": {},
   "outputs": [],
   "source": [
    "test_df = track_points_of_interest.head(50000)"
   ]
  },
  {
   "cell_type": "code",
   "execution_count": 47,
   "metadata": {},
   "outputs": [
    {
     "data": {
      "text/plain": [
       "True"
      ]
     },
     "execution_count": 47,
     "metadata": {},
     "output_type": "execute_result"
    }
   ],
   "source": [
    "abs(first[\"datetime\"] - second[\"datetime\"]) < pd.Timedelta(seconds=30)"
   ]
  },
  {
   "cell_type": "code",
   "execution_count": 14,
   "metadata": {},
   "outputs": [],
   "source": [
    "users_close_to_others = set()"
   ]
  },
  {
   "cell_type": "code",
   "execution_count": 62,
   "metadata": {},
   "outputs": [
    {
     "ename": "KeyboardInterrupt",
     "evalue": "",
     "output_type": "error",
     "traceback": [
      "\u001b[0;31m---------------------------------------------------------------------------\u001b[0m",
      "\u001b[0;31mKeyboardInterrupt\u001b[0m                         Traceback (most recent call last)",
      "\u001b[1;32m/Users/larswaage/Code/large-distributed-data/src/test_notebook.ipynb Cell 51\u001b[0m line \u001b[0;36m2\n\u001b[1;32m      <a href='vscode-notebook-cell:/Users/larswaage/Code/large-distributed-data/src/test_notebook.ipynb#X62sZmlsZQ%3D%3D?line=0'>1</a>\u001b[0m \u001b[39mfor\u001b[39;00m first_idx, second_idx \u001b[39min\u001b[39;00m comb_rows:\n\u001b[0;32m----> <a href='vscode-notebook-cell:/Users/larswaage/Code/large-distributed-data/src/test_notebook.ipynb#X62sZmlsZQ%3D%3D?line=1'>2</a>\u001b[0m     first, second \u001b[39m=\u001b[39m test_df\u001b[39m.\u001b[39;49miloc[first_idx], track_points_of_interest\u001b[39m.\u001b[39miloc[second_idx]\n\u001b[1;32m      <a href='vscode-notebook-cell:/Users/larswaage/Code/large-distributed-data/src/test_notebook.ipynb#X62sZmlsZQ%3D%3D?line=3'>4</a>\u001b[0m     \u001b[39mif\u001b[39;00m first\u001b[39m.\u001b[39muser_id \u001b[39m==\u001b[39m second\u001b[39m.\u001b[39muser_id:\n\u001b[1;32m      <a href='vscode-notebook-cell:/Users/larswaage/Code/large-distributed-data/src/test_notebook.ipynb#X62sZmlsZQ%3D%3D?line=4'>5</a>\u001b[0m         \u001b[39mcontinue\u001b[39;00m\n",
      "File \u001b[0;32m~/Code/large-distributed-data/.venv/lib/python3.11/site-packages/pandas/core/indexing.py:1153\u001b[0m, in \u001b[0;36m_LocationIndexer.__getitem__\u001b[0;34m(self, key)\u001b[0m\n\u001b[1;32m   1150\u001b[0m axis \u001b[39m=\u001b[39m \u001b[39mself\u001b[39m\u001b[39m.\u001b[39maxis \u001b[39mor\u001b[39;00m \u001b[39m0\u001b[39m\n\u001b[1;32m   1152\u001b[0m maybe_callable \u001b[39m=\u001b[39m com\u001b[39m.\u001b[39mapply_if_callable(key, \u001b[39mself\u001b[39m\u001b[39m.\u001b[39mobj)\n\u001b[0;32m-> 1153\u001b[0m \u001b[39mreturn\u001b[39;00m \u001b[39mself\u001b[39;49m\u001b[39m.\u001b[39;49m_getitem_axis(maybe_callable, axis\u001b[39m=\u001b[39;49maxis)\n",
      "File \u001b[0;32m~/Code/large-distributed-data/.venv/lib/python3.11/site-packages/pandas/core/indexing.py:1716\u001b[0m, in \u001b[0;36m_iLocIndexer._getitem_axis\u001b[0;34m(self, key, axis)\u001b[0m\n\u001b[1;32m   1713\u001b[0m \u001b[39m# validate the location\u001b[39;00m\n\u001b[1;32m   1714\u001b[0m \u001b[39mself\u001b[39m\u001b[39m.\u001b[39m_validate_integer(key, axis)\n\u001b[0;32m-> 1716\u001b[0m \u001b[39mreturn\u001b[39;00m \u001b[39mself\u001b[39;49m\u001b[39m.\u001b[39;49mobj\u001b[39m.\u001b[39;49m_ixs(key, axis\u001b[39m=\u001b[39;49maxis)\n",
      "File \u001b[0;32m~/Code/large-distributed-data/.venv/lib/python3.11/site-packages/pandas/core/frame.py:3792\u001b[0m, in \u001b[0;36mDataFrame._ixs\u001b[0;34m(self, i, axis)\u001b[0m\n\u001b[1;32m   3790\u001b[0m \u001b[39m# irow\u001b[39;00m\n\u001b[1;32m   3791\u001b[0m \u001b[39mif\u001b[39;00m axis \u001b[39m==\u001b[39m \u001b[39m0\u001b[39m:\n\u001b[0;32m-> 3792\u001b[0m     new_mgr \u001b[39m=\u001b[39m \u001b[39mself\u001b[39;49m\u001b[39m.\u001b[39;49m_mgr\u001b[39m.\u001b[39;49mfast_xs(i)\n\u001b[1;32m   3794\u001b[0m     \u001b[39m# if we are a copy, mark as such\u001b[39;00m\n\u001b[1;32m   3795\u001b[0m     copy \u001b[39m=\u001b[39m \u001b[39misinstance\u001b[39m(new_mgr\u001b[39m.\u001b[39marray, np\u001b[39m.\u001b[39mndarray) \u001b[39mand\u001b[39;00m new_mgr\u001b[39m.\u001b[39marray\u001b[39m.\u001b[39mbase \u001b[39mis\u001b[39;00m \u001b[39mNone\u001b[39;00m\n",
      "File \u001b[0;32m~/Code/large-distributed-data/.venv/lib/python3.11/site-packages/pandas/core/internals/managers.py:981\u001b[0m, in \u001b[0;36mBlockManager.fast_xs\u001b[0;34m(self, loc)\u001b[0m\n\u001b[1;32m    977\u001b[0m \u001b[39mfor\u001b[39;00m blk \u001b[39min\u001b[39;00m \u001b[39mself\u001b[39m\u001b[39m.\u001b[39mblocks:\n\u001b[1;32m    978\u001b[0m     \u001b[39m# Such assignment may incorrectly coerce NaT to None\u001b[39;00m\n\u001b[1;32m    979\u001b[0m     \u001b[39m# result[blk.mgr_locs] = blk._slice((slice(None), loc))\u001b[39;00m\n\u001b[1;32m    980\u001b[0m     \u001b[39mfor\u001b[39;00m i, rl \u001b[39min\u001b[39;00m \u001b[39menumerate\u001b[39m(blk\u001b[39m.\u001b[39mmgr_locs):\n\u001b[0;32m--> 981\u001b[0m         result[rl] \u001b[39m=\u001b[39m blk\u001b[39m.\u001b[39;49miget((i, loc))\n\u001b[1;32m    983\u001b[0m \u001b[39mif\u001b[39;00m \u001b[39misinstance\u001b[39m(dtype, ExtensionDtype):\n\u001b[1;32m    984\u001b[0m     \u001b[39mcls\u001b[39m \u001b[39m=\u001b[39m dtype\u001b[39m.\u001b[39mconstruct_array_type()\n",
      "File \u001b[0;32m~/Code/large-distributed-data/.venv/lib/python3.11/site-packages/pandas/core/internals/blocks.py:1014\u001b[0m, in \u001b[0;36mBlock.iget\u001b[0;34m(self, i)\u001b[0m\n\u001b[1;32m   1007\u001b[0m \u001b[39mdef\u001b[39;00m \u001b[39miget\u001b[39m(\u001b[39mself\u001b[39m, i: \u001b[39mint\u001b[39m \u001b[39m|\u001b[39m \u001b[39mtuple\u001b[39m[\u001b[39mint\u001b[39m, \u001b[39mint\u001b[39m] \u001b[39m|\u001b[39m \u001b[39mtuple\u001b[39m[\u001b[39mslice\u001b[39m, \u001b[39mint\u001b[39m]) \u001b[39m-\u001b[39m\u001b[39m>\u001b[39m np\u001b[39m.\u001b[39mndarray:\n\u001b[1;32m   1008\u001b[0m     \u001b[39m# In the case where we have a tuple[slice, int], the slice will always\u001b[39;00m\n\u001b[1;32m   1009\u001b[0m     \u001b[39m#  be slice(None)\u001b[39;00m\n\u001b[0;32m   (...)\u001b[0m\n\u001b[1;32m   1012\u001b[0m     \u001b[39m# for \"Union[ndarray[Any, Any], ExtensionArray]\"; expected type\u001b[39;00m\n\u001b[1;32m   1013\u001b[0m     \u001b[39m# \"Union[int, integer[Any]]\"\u001b[39;00m\n\u001b[0;32m-> 1014\u001b[0m     \u001b[39mreturn\u001b[39;00m \u001b[39mself\u001b[39;49m\u001b[39m.\u001b[39;49mvalues[i]\n",
      "File \u001b[0;32m~/Code/large-distributed-data/.venv/lib/python3.11/site-packages/pandas/core/arrays/datetimelike.py:376\u001b[0m, in \u001b[0;36mDatetimeLikeArrayMixin.__getitem__\u001b[0;34m(self, key)\u001b[0m\n\u001b[1;32m    369\u001b[0m \u001b[39m\u001b[39m\u001b[39m\"\"\"\u001b[39;00m\n\u001b[1;32m    370\u001b[0m \u001b[39mThis getitem defers to the underlying array, which by-definition can\u001b[39;00m\n\u001b[1;32m    371\u001b[0m \u001b[39monly handle list-likes, slices, and integer scalars\u001b[39;00m\n\u001b[1;32m    372\u001b[0m \u001b[39m\"\"\"\u001b[39;00m\n\u001b[1;32m    373\u001b[0m \u001b[39m# Use cast as we know we will get back a DatetimeLikeArray or DTScalar,\u001b[39;00m\n\u001b[1;32m    374\u001b[0m \u001b[39m# but skip evaluating the Union at runtime for performance\u001b[39;00m\n\u001b[1;32m    375\u001b[0m \u001b[39m# (see https://github.com/pandas-dev/pandas/pull/44624)\u001b[39;00m\n\u001b[0;32m--> 376\u001b[0m result \u001b[39m=\u001b[39m cast(\u001b[39m\"\u001b[39m\u001b[39mUnion[Self, DTScalarOrNaT]\u001b[39m\u001b[39m\"\u001b[39m, \u001b[39msuper\u001b[39;49m()\u001b[39m.\u001b[39;49m\u001b[39m__getitem__\u001b[39;49m(key))\n\u001b[1;32m    377\u001b[0m \u001b[39mif\u001b[39;00m lib\u001b[39m.\u001b[39mis_scalar(result):\n\u001b[1;32m    378\u001b[0m     \u001b[39mreturn\u001b[39;00m result\n",
      "File \u001b[0;32m~/Code/large-distributed-data/.venv/lib/python3.11/site-packages/pandas/core/arrays/_mixins.py:284\u001b[0m, in \u001b[0;36mNDArrayBackedExtensionArray.__getitem__\u001b[0;34m(self, key)\u001b[0m\n\u001b[1;32m    281\u001b[0m \u001b[39m# error: Incompatible types in assignment (expression has type \"ExtensionArray\",\u001b[39;00m\n\u001b[1;32m    282\u001b[0m \u001b[39m# variable has type \"Union[int, slice, ndarray]\")\u001b[39;00m\n\u001b[1;32m    283\u001b[0m key \u001b[39m=\u001b[39m extract_array(key, extract_numpy\u001b[39m=\u001b[39m\u001b[39mTrue\u001b[39;00m)  \u001b[39m# type: ignore[assignment]\u001b[39;00m\n\u001b[0;32m--> 284\u001b[0m key \u001b[39m=\u001b[39m check_array_indexer(\u001b[39mself\u001b[39;49m, key)\n\u001b[1;32m    285\u001b[0m result \u001b[39m=\u001b[39m \u001b[39mself\u001b[39m\u001b[39m.\u001b[39m_ndarray[key]\n\u001b[1;32m    286\u001b[0m \u001b[39mif\u001b[39;00m lib\u001b[39m.\u001b[39mis_scalar(result):\n",
      "File \u001b[0;32m~/Code/large-distributed-data/.venv/lib/python3.11/site-packages/pandas/core/indexers/utils.py:517\u001b[0m, in \u001b[0;36mcheck_array_indexer\u001b[0;34m(array, indexer)\u001b[0m\n\u001b[1;32m    511\u001b[0m \u001b[39mfrom\u001b[39;00m \u001b[39mpandas\u001b[39;00m\u001b[39m.\u001b[39;00m\u001b[39mcore\u001b[39;00m\u001b[39m.\u001b[39;00m\u001b[39mconstruction\u001b[39;00m \u001b[39mimport\u001b[39;00m array \u001b[39mas\u001b[39;00m pd_array\n\u001b[1;32m    513\u001b[0m \u001b[39m# whatever is not an array-like is returned as-is (possible valid array\u001b[39;00m\n\u001b[1;32m    514\u001b[0m \u001b[39m# indexers that are not array-like: integer, slice, Ellipsis, None)\u001b[39;00m\n\u001b[1;32m    515\u001b[0m \u001b[39m# In this context, tuples are not considered as array-like, as they have\u001b[39;00m\n\u001b[1;32m    516\u001b[0m \u001b[39m# a specific meaning in indexing (multi-dimensional indexing)\u001b[39;00m\n\u001b[0;32m--> 517\u001b[0m \u001b[39mif\u001b[39;00m is_list_like(indexer):\n\u001b[1;32m    518\u001b[0m     \u001b[39mif\u001b[39;00m \u001b[39misinstance\u001b[39m(indexer, \u001b[39mtuple\u001b[39m):\n\u001b[1;32m    519\u001b[0m         \u001b[39mreturn\u001b[39;00m indexer\n",
      "\u001b[0;31mKeyboardInterrupt\u001b[0m: "
     ]
    }
   ],
   "source": [
    "for first_idx, second_idx in comb_rows:\n",
    "    first, second = test_df.iloc[first_idx], track_points_of_interest.iloc[second_idx]\n",
    "    \n",
    "    if first.user_id == second.user_id:\n",
    "        continue\n",
    "\n",
    "    if first.user_id in users_close_to_others and second.user_id in users_close_to_others:\n",
    "        continue\n",
    "\n",
    "    if abs(first[\"datetime\"] - second[\"datetime\"]) > pd.Timedelta(seconds=30):\n",
    "        continue\n",
    "    \n",
    "    distances = haversine_distances([first[[\"latitude\", \"longitude\"]], second[[\"latitude\", \"longitude\"]]]) * 6371000\n",
    "    if distances[0, 1] > 50:\n",
    "        continue\n",
    "\n",
    "    users_close_to_others.add(first.user_id)\n",
    "    users_close_to_others.add(second.user_id)"
   ]
  },
  {
   "cell_type": "code",
   "execution_count": null,
   "metadata": {},
   "outputs": [],
   "source": []
  }
 ],
 "metadata": {
  "kernelspec": {
   "display_name": ".venv",
   "language": "python",
   "name": "python3"
  },
  "language_info": {
   "codemirror_mode": {
    "name": "ipython",
    "version": 3
   },
   "file_extension": ".py",
   "mimetype": "text/x-python",
   "name": "python",
   "nbconvert_exporter": "python",
   "pygments_lexer": "ipython3",
   "version": "3.11.5"
  },
  "orig_nbformat": 4
 },
 "nbformat": 4,
 "nbformat_minor": 2
}
