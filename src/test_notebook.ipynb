{
 "cells": [
  {
   "cell_type": "markdown",
   "metadata": {},
   "source": [
    "# Introduction\n",
    "This notebook performs the tasks in the exercise"
   ]
  },
  {
   "cell_type": "code",
   "execution_count": 50,
   "metadata": {},
   "outputs": [
    {
     "name": "stdout",
     "output_type": "stream",
     "text": [
      "The autoreload extension is already loaded. To reload it, use:\n",
      "  %reload_ext autoreload\n"
     ]
    }
   ],
   "source": [
    "%load_ext autoreload\n",
    "%autoreload 2"
   ]
  },
  {
   "cell_type": "code",
   "execution_count": 51,
   "metadata": {},
   "outputs": [],
   "source": [
    "from migrator import Migrator\n",
    "from database import Database\n",
    "from environs import Env\n",
    "import tasks as t"
   ]
  },
  {
   "cell_type": "markdown",
   "metadata": {},
   "source": [
    "## Part 1\n",
    "Setting up and seeding the database."
   ]
  },
  {
   "cell_type": "code",
   "execution_count": 52,
   "metadata": {},
   "outputs": [],
   "source": [
    "env = Env()\n",
    "env.read_env(\".env\")"
   ]
  },
  {
   "cell_type": "code",
   "execution_count": 53,
   "metadata": {},
   "outputs": [
    {
     "name": "stdout",
     "output_type": "stream",
     "text": [
      "Connected to: 8.1.0\n",
      "You are connected to the database: ('mysql',)\n",
      "-----------------------------------------------\n",
      "\n"
     ]
    }
   ],
   "source": [
    "database = Database(\n",
    "    host=env.str(\"DB_HOST\"),\n",
    "    port=3307,\n",
    "    user=env.str(\"DB_USER\"),\n",
    "    password=env.str(\"DB_PASSWORD\"),\n",
    "    database=env.str(\"DB_DATABASE\")\n",
    ")"
   ]
  },
  {
   "cell_type": "markdown",
   "metadata": {},
   "source": [
    "### Create tables"
   ]
  },
  {
   "cell_type": "code",
   "execution_count": 43,
   "metadata": {},
   "outputs": [],
   "source": [
    "migrator = Migrator(database, 500)"
   ]
  },
  {
   "cell_type": "code",
   "execution_count": 44,
   "metadata": {},
   "outputs": [
    {
     "name": "stdout",
     "output_type": "stream",
     "text": [
      "--------------------------------Starting migrate--------------------------------\n",
      "Found migration files:  ['001_users.sql', '002_activities.sql', '003_trackpoints.sql']\n",
      "Running migration:   001_users.sql       ✅\n",
      "Running migration:   002_activities.sql  ✅\n",
      "Running migration:   003_trackpoints.sql ✅\n",
      "-------------------------Finished migrate in 45.674 ms--------------------------\n",
      "\n"
     ]
    }
   ],
   "source": [
    "migrator.migrate()"
   ]
  },
  {
   "cell_type": "markdown",
   "metadata": {},
   "source": [
    "### (DANGER) Wipe the DB\n",
    "🚨 THIS WILL WIPE ALL DATA IN THE TABLES 🚨"
   ]
  },
  {
   "cell_type": "code",
   "execution_count": 41,
   "metadata": {},
   "outputs": [
    {
     "name": "stdout",
     "output_type": "stream",
     "text": [
      "---------------------------------Starting wipe----------------------------------\n",
      "Wiping TrackPoints\n",
      "Wiping Activities\n",
      "Wiping Users\n",
      "---------------------------Finished wipe in 51.69 ms----------------------------\n",
      "\n"
     ]
    }
   ],
   "source": [
    "migrator.wipe()"
   ]
  },
  {
   "cell_type": "markdown",
   "metadata": {},
   "source": [
    "### Seed Database from Data Set"
   ]
  },
  {
   "cell_type": "code",
   "execution_count": 45,
   "metadata": {},
   "outputs": [
    {
     "name": "stdout",
     "output_type": "stream",
     "text": [
      "------------------------------Starting seed_users-------------------------------\n",
      "Seeded [(182,)] Users\n",
      "------------------------Finished seed_users in 8.554 ms-------------------------\n",
      "\n"
     ]
    }
   ],
   "source": [
    "migrator.seed_users()"
   ]
  },
  {
   "cell_type": "code",
   "execution_count": 46,
   "metadata": {},
   "outputs": [
    {
     "name": "stdout",
     "output_type": "stream",
     "text": [
      "----------------------------Starting seed_activities----------------------------\n",
      "Generating seed data for user: 135\t✅\n",
      "Generating seed data for user: 132\t✅\n",
      "Generating seed data for user: 104\t✅\n",
      "Generating seed data for user: 103\t✅\n",
      "Generating seed data for user: 168\t✅\n",
      "Generating seed data for user: 157\t✅\n",
      "Generating seed data for user: 150\t✅\n",
      "Generating seed data for user: 159\t✅\n",
      "Generating seed data for user: 166\t✅\n",
      "Generating seed data for user: 161\t✅\n",
      "Generating seed data for user: 102\t✅\n",
      "Generating seed data for user: 105\t✅\n",
      "Generating seed data for user: 133\t✅\n",
      "Generating seed data for user: 134\t✅\n",
      "Generating seed data for user: 160\t✅\n",
      "Generating seed data for user: 158\t✅\n",
      "Generating seed data for user: 167\t✅\n",
      "Generating seed data for user: 151\t✅\n",
      "Generating seed data for user: 169\t✅\n",
      "Generating seed data for user: 156\t✅\n",
      "Generating seed data for user: 024\t✅\n",
      "Generating seed data for user: 023\t✅\n",
      "Generating seed data for user: 015\t✅\n",
      "Generating seed data for user: 012\t✅\n",
      "Generating seed data for user: 079\t✅\n",
      "Generating seed data for user: 046\t✅\n",
      "Generating seed data for user: 041\t✅\n",
      "Generating seed data for user: 048\t✅\n",
      "Generating seed data for user: 077\t✅\n",
      "Generating seed data for user: 083\t✅\n",
      "Generating seed data for user: 084\t✅\n",
      "Generating seed data for user: 070\t✅\n",
      "Generating seed data for user: 013\t✅\n",
      "Generating seed data for user: 014\t✅\n",
      "Generating seed data for user: 022\t✅\n",
      "Generating seed data for user: 025\t✅\n",
      "Generating seed data for user: 071\t✅\n",
      "Generating seed data for user: 085\t✅\n",
      "Generating seed data for user: 049\t✅\n",
      "Generating seed data for user: 082\t✅\n",
      "Generating seed data for user: 076\t✅\n",
      "Generating seed data for user: 040\t✅\n",
      "Generating seed data for user: 078\t✅\n",
      "Generating seed data for user: 047\t✅\n",
      "Generating seed data for user: 065\t✅\n",
      "Generating seed data for user: 091\t✅\n",
      "Generating seed data for user: 096\t✅\n",
      "Generating seed data for user: 062\t✅\n",
      "Generating seed data for user: 054\t✅\n",
      "Generating seed data for user: 053\t✅\n",
      "Generating seed data for user: 098\t✅\n",
      "Generating seed data for user: 038\t✅\n",
      "Generating seed data for user: 007\t✅\n",
      "Generating seed data for user: 000\t✅\n",
      "Generating seed data for user: 009\t✅\n",
      "Generating seed data for user: 036\t✅\n",
      "Generating seed data for user: 031\t✅\n",
      "Generating seed data for user: 052\t✅\n",
      "Generating seed data for user: 099\t✅\n",
      "Generating seed data for user: 055\t✅\n",
      "Generating seed data for user: 063\t✅\n",
      "Generating seed data for user: 097\t✅\n",
      "Generating seed data for user: 090\t✅\n",
      "Generating seed data for user: 064\t✅\n",
      "Generating seed data for user: 030\t✅\n",
      "Generating seed data for user: 008\t✅\n",
      "Generating seed data for user: 037\t✅\n",
      "Generating seed data for user: 001\t✅\n",
      "Generating seed data for user: 039\t✅\n",
      "Generating seed data for user: 006\t✅\n",
      "Generating seed data for user: 174\t✅\n",
      "Generating seed data for user: 180\t✅\n",
      "Generating seed data for user: 173\t✅\n",
      "Generating seed data for user: 145\t✅\n",
      "Generating seed data for user: 142\t✅\n",
      "Generating seed data for user: 129\t✅\n",
      "Generating seed data for user: 116\t✅\n",
      "Generating seed data for user: 111\t✅\n",
      "Generating seed data for user: 118\t✅\n",
      "Generating seed data for user: 127\t✅\n",
      "Generating seed data for user: 120\t✅\n",
      "Generating seed data for user: 143\t✅\n",
      "Generating seed data for user: 144\t✅\n",
      "Generating seed data for user: 172\t✅\n",
      "Generating seed data for user: 181\t✅\n",
      "Generating seed data for user: 175\t✅\n",
      "Generating seed data for user: 121\t✅\n",
      "Generating seed data for user: 119\t✅\n",
      "Generating seed data for user: 126\t✅\n",
      "Generating seed data for user: 110\t✅\n",
      "Generating seed data for user: 128\t✅\n",
      "Generating seed data for user: 117\t✅\n",
      "Generating seed data for user: 153\t✅\n",
      "Generating seed data for user: 154\t✅\n",
      "Generating seed data for user: 162\t✅\n",
      "Generating seed data for user: 165\t✅\n",
      "Generating seed data for user: 131\t✅\n",
      "Generating seed data for user: 136\t✅\n",
      "Generating seed data for user: 109\t✅\n",
      "Generating seed data for user: 100\t✅\n",
      "Generating seed data for user: 107\t✅\n",
      "Generating seed data for user: 138\t✅\n",
      "Generating seed data for user: 164\t✅\n",
      "Generating seed data for user: 163\t✅\n",
      "Generating seed data for user: 155\t✅\n",
      "Generating seed data for user: 152\t✅\n",
      "Generating seed data for user: 106\t✅\n",
      "Generating seed data for user: 139\t✅\n",
      "Generating seed data for user: 101\t✅\n",
      "Generating seed data for user: 137\t✅\n",
      "Generating seed data for user: 108\t✅\n",
      "Generating seed data for user: 130\t✅\n",
      "Generating seed data for user: 089\t✅\n",
      "Generating seed data for user: 042\t✅\n",
      "Generating seed data for user: 045\t✅\n",
      "Generating seed data for user: 087\t✅\n",
      "Generating seed data for user: 073\t✅\n",
      "Generating seed data for user: 074\t✅\n",
      "Generating seed data for user: 080\t✅\n",
      "Generating seed data for user: 020\t✅\n",
      "Generating seed data for user: 027\t✅\n",
      "Generating seed data for user: 018\t✅\n",
      "Generating seed data for user: 011\t✅\n",
      "Generating seed data for user: 016\t✅\n",
      "Generating seed data for user: 029\t✅\n",
      "Generating seed data for user: 081\t✅\n",
      "Generating seed data for user: 075\t✅\n",
      "Generating seed data for user: 072\t✅\n",
      "Generating seed data for user: 086\t✅\n",
      "Generating seed data for user: 044\t✅\n",
      "Generating seed data for user: 088\t✅\n",
      "Generating seed data for user: 043\t✅\n",
      "Generating seed data for user: 017\t✅\n",
      "Generating seed data for user: 028\t✅\n",
      "Generating seed data for user: 010\t✅\n",
      "Generating seed data for user: 026\t✅\n",
      "Generating seed data for user: 019\t✅\n",
      "Generating seed data for user: 021\t✅\n",
      "Generating seed data for user: 003\t✅\n",
      "Generating seed data for user: 004\t✅\n",
      "Generating seed data for user: 032\t✅\n",
      "Generating seed data for user: 035\t✅\n",
      "Generating seed data for user: 095\t✅\n",
      "Generating seed data for user: 061\t✅\n",
      "Generating seed data for user: 066\t✅\n",
      "Generating seed data for user: 092\t✅\n",
      "Generating seed data for user: 059\t✅\n",
      "Generating seed data for user: 050\t✅\n",
      "Generating seed data for user: 057\t✅\n",
      "Generating seed data for user: 068\t✅\n",
      "Generating seed data for user: 034\t✅\n",
      "Generating seed data for user: 033\t✅\n",
      "Generating seed data for user: 005\t✅\n",
      "Generating seed data for user: 002\t✅\n",
      "Generating seed data for user: 056\t✅\n",
      "Generating seed data for user: 069\t✅\n",
      "Generating seed data for user: 051\t✅\n",
      "Generating seed data for user: 093\t✅\n",
      "Generating seed data for user: 067\t✅\n",
      "Generating seed data for user: 058\t✅\n",
      "Generating seed data for user: 060\t✅\n",
      "Generating seed data for user: 094\t✅\n",
      "Generating seed data for user: 112\t✅\n",
      "Generating seed data for user: 115\t✅\n",
      "Generating seed data for user: 123\t✅\n",
      "Generating seed data for user: 124\t✅\n",
      "Generating seed data for user: 170\t✅\n",
      "Generating seed data for user: 177\t✅\n",
      "Generating seed data for user: 148\t✅\n",
      "Generating seed data for user: 141\t✅\n",
      "Generating seed data for user: 146\t✅\n",
      "Generating seed data for user: 179\t✅\n",
      "Generating seed data for user: 125\t✅\n",
      "Generating seed data for user: 122\t✅\n",
      "Generating seed data for user: 114\t✅\n",
      "Generating seed data for user: 113\t✅\n",
      "Generating seed data for user: 147\t✅\n",
      "Generating seed data for user: 178\t✅\n",
      "Generating seed data for user: 140\t✅\n",
      "Generating seed data for user: 176\t✅\n",
      "Generating seed data for user: 149\t✅\n",
      "Generating seed data for user: 171\t✅\n",
      "Seeded 9281 Activities\n",
      "--------------------Finished seed_activities in 18573.584 ms--------------------\n",
      "\n"
     ]
    }
   ],
   "source": [
    "migrator.seed_activities()"
   ]
  },
  {
   "cell_type": "code",
   "execution_count": 47,
   "metadata": {},
   "outputs": [
    {
     "name": "stdout",
     "output_type": "stream",
     "text": [
      "---------------------------Starting seed_track_points---------------------------\n",
      "Generating seed data for user: 135\t✅\n",
      "Generating seed data for user: 132\t✅\n",
      "Generating seed data for user: 104\t✅\n",
      "Generating seed data for user: 103\t✅\n",
      "Generating seed data for user: 168\t✅\n",
      "Generating seed data for user: 157\t✅\n",
      "Generating seed data for user: 150\t✅\n",
      "Generating seed data for user: 159\t✅\n",
      "Generating seed data for user: 166\t✅\n",
      "Generating seed data for user: 161\t✅\n",
      "Generating seed data for user: 102\t✅\n",
      "Generating seed data for user: 105\t✅\n",
      "Generating seed data for user: 133\t✅\n",
      "Generating seed data for user: 134\t✅\n",
      "Generating seed data for user: 160\t✅\n",
      "Generating seed data for user: 158\t✅\n",
      "Generating seed data for user: 167\t✅\n",
      "Generating seed data for user: 151\t✅\n",
      "Generating seed data for user: 169\t✅\n",
      "Generating seed data for user: 156\t✅\n",
      "Generating seed data for user: 024\t✅\n",
      "Generating seed data for user: 023\t✅\n",
      "Generating seed data for user: 015\t✅\n",
      "Generating seed data for user: 012\t✅\n",
      "Generating seed data for user: 079\t✅\n",
      "Generating seed data for user: 046\t✅\n",
      "Generating seed data for user: 041\t✅\n",
      "Generating seed data for user: 048\t✅\n",
      "Generating seed data for user: 077\t✅\n",
      "Generating seed data for user: 083\t✅\n",
      "Generating seed data for user: 084\t✅\n",
      "Generating seed data for user: 070\t✅\n",
      "Generating seed data for user: 013\t✅\n",
      "Generating seed data for user: 014\t✅\n",
      "Generating seed data for user: 022\t✅\n",
      "Generating seed data for user: 025\t✅\n",
      "Generating seed data for user: 071\t✅\n",
      "Generating seed data for user: 085\t✅\n",
      "Generating seed data for user: 049\t✅\n",
      "Generating seed data for user: 082\t✅\n",
      "Generating seed data for user: 076\t✅\n",
      "Generating seed data for user: 040\t✅\n",
      "Generating seed data for user: 078\t✅\n",
      "Generating seed data for user: 047\t✅\n",
      "Generating seed data for user: 065\t✅\n",
      "Generating seed data for user: 091\t✅\n",
      "Generating seed data for user: 096\t✅\n",
      "Generating seed data for user: 062\t✅\n",
      "Generating seed data for user: 054\t✅\n",
      "Generating seed data for user: 053\t✅\n",
      "Generating seed data for user: 098\t✅\n",
      "Generating seed data for user: 038\t✅\n",
      "Generating seed data for user: 007\t✅\n",
      "Generating seed data for user: 000\t✅\n",
      "Generating seed data for user: 009\t✅\n",
      "Generating seed data for user: 036\t✅\n",
      "Generating seed data for user: 031\t✅\n",
      "Generating seed data for user: 052\t✅\n",
      "Generating seed data for user: 099\t✅\n",
      "Generating seed data for user: 055\t✅\n",
      "Generating seed data for user: 063\t✅\n",
      "Generating seed data for user: 097\t✅\n",
      "Generating seed data for user: 090\t✅\n",
      "Generating seed data for user: 064\t✅\n",
      "Generating seed data for user: 030\t✅\n",
      "Generating seed data for user: 008\t✅\n",
      "Generating seed data for user: 037\t✅\n",
      "Generating seed data for user: 001\t✅\n",
      "Generating seed data for user: 039\t✅\n",
      "Generating seed data for user: 006\t✅\n",
      "Generating seed data for user: 174\t✅\n",
      "Generating seed data for user: 180\t✅\n",
      "Generating seed data for user: 173\t✅\n",
      "Generating seed data for user: 145\t✅\n",
      "Generating seed data for user: 142\t✅\n",
      "Generating seed data for user: 129\t✅\n",
      "Generating seed data for user: 116\t✅\n",
      "Generating seed data for user: 111\t✅\n",
      "Generating seed data for user: 118\t✅\n",
      "Generating seed data for user: 127\t✅\n",
      "Generating seed data for user: 120\t✅\n",
      "Generating seed data for user: 143\t✅\n",
      "Generating seed data for user: 144\t✅\n",
      "Generating seed data for user: 172\t✅\n",
      "Generating seed data for user: 181\t✅\n",
      "Generating seed data for user: 175\t✅\n",
      "Generating seed data for user: 121\t✅\n",
      "Generating seed data for user: 119\t✅\n",
      "Generating seed data for user: 126\t✅\n",
      "Generating seed data for user: 110\t✅\n",
      "Generating seed data for user: 128\t✅\n",
      "Generating seed data for user: 117\t✅\n",
      "Generating seed data for user: 153\t✅\n",
      "Generating seed data for user: 154\t✅\n",
      "Generating seed data for user: 162\t✅\n",
      "Generating seed data for user: 165\t✅\n",
      "Generating seed data for user: 131\t✅\n",
      "Generating seed data for user: 136\t✅\n",
      "Generating seed data for user: 109\t✅\n",
      "Generating seed data for user: 100\t✅\n",
      "Generating seed data for user: 107\t✅\n",
      "Generating seed data for user: 138\t✅\n",
      "Generating seed data for user: 164\t✅\n",
      "Generating seed data for user: 163\t✅\n",
      "Generating seed data for user: 155\t✅\n",
      "Generating seed data for user: 152\t✅\n",
      "Generating seed data for user: 106\t✅\n",
      "Generating seed data for user: 139\t✅\n",
      "Generating seed data for user: 101\t✅\n",
      "Generating seed data for user: 137\t✅\n",
      "Generating seed data for user: 108\t✅\n",
      "Generating seed data for user: 130\t✅\n",
      "Generating seed data for user: 089\t✅\n",
      "Generating seed data for user: 042\t✅\n",
      "Generating seed data for user: 045\t✅\n",
      "Generating seed data for user: 087\t✅\n",
      "Generating seed data for user: 073\t✅\n",
      "Generating seed data for user: 074\t✅\n",
      "Generating seed data for user: 080\t✅\n",
      "Generating seed data for user: 020\t✅\n",
      "Generating seed data for user: 027\t✅\n",
      "Generating seed data for user: 018\t✅\n",
      "Generating seed data for user: 011\t✅\n",
      "Generating seed data for user: 016\t✅\n",
      "Generating seed data for user: 029\t✅\n",
      "Generating seed data for user: 081\t✅\n",
      "Generating seed data for user: 075\t✅\n",
      "Generating seed data for user: 072\t✅\n",
      "Generating seed data for user: 086\t✅\n",
      "Generating seed data for user: 044\t✅\n",
      "Generating seed data for user: 088\t✅\n",
      "Generating seed data for user: 043\t✅\n",
      "Generating seed data for user: 017\t✅\n",
      "Generating seed data for user: 028\t✅\n",
      "Generating seed data for user: 010\t✅\n",
      "Generating seed data for user: 026\t✅\n",
      "Generating seed data for user: 019\t✅\n",
      "Generating seed data for user: 021\t✅\n",
      "Generating seed data for user: 003\t✅\n",
      "Generating seed data for user: 004\t✅\n",
      "Generating seed data for user: 032\t✅\n",
      "Generating seed data for user: 035\t✅\n",
      "Generating seed data for user: 095\t✅\n",
      "Generating seed data for user: 061\t✅\n",
      "Generating seed data for user: 066\t✅\n",
      "Generating seed data for user: 092\t✅\n",
      "Generating seed data for user: 059\t✅\n",
      "Generating seed data for user: 050\t✅\n",
      "Generating seed data for user: 057\t✅\n",
      "Generating seed data for user: 068\t✅\n",
      "Generating seed data for user: 034\t✅\n",
      "Generating seed data for user: 033\t✅\n",
      "Generating seed data for user: 005\t✅\n",
      "Generating seed data for user: 002\t✅\n",
      "Generating seed data for user: 056\t✅\n",
      "Generating seed data for user: 069\t✅\n",
      "Generating seed data for user: 051\t✅\n",
      "Generating seed data for user: 093\t✅\n",
      "Generating seed data for user: 067\t✅\n",
      "Generating seed data for user: 058\t✅\n",
      "Generating seed data for user: 060\t✅\n",
      "Generating seed data for user: 094\t✅\n",
      "Generating seed data for user: 112\t✅\n",
      "Generating seed data for user: 115\t✅\n",
      "Generating seed data for user: 123\t✅\n",
      "Generating seed data for user: 124\t✅\n",
      "Generating seed data for user: 170\t✅\n",
      "Generating seed data for user: 177\t✅\n",
      "Generating seed data for user: 148\t✅\n",
      "Generating seed data for user: 141\t✅\n",
      "Generating seed data for user: 146\t✅\n",
      "Generating seed data for user: 179\t✅\n",
      "Generating seed data for user: 125\t✅\n",
      "Generating seed data for user: 122\t✅\n",
      "Generating seed data for user: 114\t✅\n",
      "Generating seed data for user: 113\t✅\n",
      "Generating seed data for user: 147\t✅\n",
      "Generating seed data for user: 178\t✅\n",
      "Generating seed data for user: 140\t✅\n",
      "Generating seed data for user: 176\t✅\n",
      "Generating seed data for user: 149\t✅\n",
      "Generating seed data for user: 171\t✅\n",
      "262144\n",
      "[('135-20090102043127', 'Point(39.965813 116.396532)', '492', '39815.1885069444', '2009-01-02 04:31:27'), ('135-20090102043127', 'Point(39.965871 116.396451)', '492', '39815.1885300926', '2009-01-02 04:31:29'), ('135-20090102043127', 'Point(39.965834 116.396549)', '492', '39815.1885416667', '2009-01-02 04:31:30'), ('135-20090102043127', 'Point(39.965919 116.396449)', '492', '39815.1885532407', '2009-01-02 04:31:31'), ('135-20090102043127', 'Point(39.965906 116.396482)', '492', '39815.1886111111', '2009-01-02 04:31:36'), ('135-20090102043127', 'Point(39.965861 116.396509)', '492', '39815.1886689815', '2009-01-02 04:31:41'), ('135-20090102043127', 'Point(39.965816 116.396577)', '492', '39815.1887037037', '2009-01-02 04:31:44'), ('135-20090102043127', 'Point(39.965792 116.396639)', '492', '39815.1887268518', '2009-01-02 04:31:46'), ('135-20090102043127', 'Point(39.965755 116.39668)', '492', '39815.1887847222', '2009-01-02 04:31:51'), ('135-20090102043127', 'Point(39.965718 116.396777)', '492', '39815.1888425926', '2009-01-02 04:31:56'), ('135-20090102043127', 'Point(39.965678 116.396876)', '492', '39815.1888657407', '2009-01-02 04:31:58'), ('135-20090102043127', 'Point(39.965645 116.396958)', '492', '39815.1888888889', '2009-01-02 04:32:00'), ('135-20090102043127', 'Point(39.965615 116.397023)', '492', '39815.1889236111', '2009-01-02 04:32:03'), ('135-20090102043127', 'Point(39.965862 116.39689)', '474', '39815.1889351852', '2009-01-02 04:32:04'), ('135-20090102043127', 'Point(39.966113 116.395898)', '110', '39815.1889699074', '2009-01-02 04:32:07'), ('135-20090102043127', 'Point(39.966117 116.395947)', '122', '39815.1890277778', '2009-01-02 04:32:12'), ('135-20090102043127', 'Point(39.966166 116.395917)', '128', '39815.1890856481', '2009-01-02 04:32:17'), ('135-20090102043127', 'Point(39.966193 116.395869)', '128', '39815.1891087963', '2009-01-02 04:32:19'), ('135-20090102043127', 'Point(39.966206 116.395802)', '128', '39815.1891435185', '2009-01-02 04:32:22'), ('135-20090102043127', 'Point(39.966227 116.395735)', '128', '39815.1892013889', '2009-01-02 04:32:27')]\n",
      "Seeding batch: 0 of 7\t✅\n",
      "Seeding batch: 1 of 7\t✅\n",
      "Seeding batch: 2 of 7\t✅\n",
      "Seeding batch: 3 of 7\t✅\n",
      "Seeding batch: 4 of 7\t✅\n",
      "Seeding batch: 5 of 7\t✅\n",
      "Seeding batch: 6 of 7\t✅\n",
      "Seeding batch: 7 of 7\t✅\n",
      "Seeded [(1962785,)] TrackPoints\n",
      "-------------------Finished seed_track_points in 48401.994 ms-------------------\n",
      "\n"
     ]
    }
   ],
   "source": [
    "migrator.seed_track_points()"
   ]
  },
  {
   "cell_type": "code",
   "execution_count": 48,
   "metadata": {},
   "outputs": [
    {
     "name": "stdout",
     "output_type": "stream",
     "text": [
      "----------------------------Starting create_indices-----------------------------\n",
      "Executing statement\n",
      " ALTER TABLE TrackPoints ADD INDEX datetime_idx (datetime); ✅\n",
      "---------------------Finished create_indices in 2218.913 ms---------------------\n",
      "\n"
     ]
    }
   ],
   "source": [
    "migrator.create_indices()"
   ]
  },
  {
   "cell_type": "markdown",
   "metadata": {},
   "source": [
    "## Part 2"
   ]
  },
  {
   "cell_type": "code",
   "execution_count": 11,
   "metadata": {},
   "outputs": [],
   "source": [
    "tasks = t.Task(database)"
   ]
  },
  {
   "cell_type": "markdown",
   "metadata": {},
   "source": [
    "### Task 1"
   ]
  },
  {
   "cell_type": "code",
   "execution_count": null,
   "metadata": {},
   "outputs": [],
   "source": [
    "tasks.task1()"
   ]
  },
  {
   "cell_type": "markdown",
   "metadata": {},
   "source": [
    "### Task 2"
   ]
  },
  {
   "cell_type": "code",
   "execution_count": null,
   "metadata": {},
   "outputs": [],
   "source": [
    "tasks.task2()"
   ]
  },
  {
   "cell_type": "markdown",
   "metadata": {},
   "source": [
    "### Task 3"
   ]
  },
  {
   "cell_type": "code",
   "execution_count": null,
   "metadata": {},
   "outputs": [],
   "source": [
    "tasks.task3()"
   ]
  },
  {
   "cell_type": "markdown",
   "metadata": {},
   "source": [
    "### Task 4"
   ]
  },
  {
   "cell_type": "code",
   "execution_count": null,
   "metadata": {},
   "outputs": [],
   "source": [
    "tasks.task4()"
   ]
  },
  {
   "cell_type": "markdown",
   "metadata": {},
   "source": [
    "### Task 5"
   ]
  },
  {
   "cell_type": "code",
   "execution_count": null,
   "metadata": {},
   "outputs": [],
   "source": [
    "tasks.task5()"
   ]
  },
  {
   "cell_type": "markdown",
   "metadata": {},
   "source": [
    "### Task 7"
   ]
  },
  {
   "cell_type": "code",
   "execution_count": null,
   "metadata": {},
   "outputs": [],
   "source": [
    "tasks.task7a()"
   ]
  },
  {
   "cell_type": "code",
   "execution_count": null,
   "metadata": {},
   "outputs": [],
   "source": [
    "tasks.task7b()"
   ]
  },
  {
   "cell_type": "markdown",
   "metadata": {},
   "source": [
    "### Task 8"
   ]
  },
  {
   "cell_type": "code",
   "execution_count": null,
   "metadata": {},
   "outputs": [],
   "source": [
    "tasks.task8()\n",
    "\n"
   ]
  },
  {
   "cell_type": "code",
   "execution_count": null,
   "metadata": {},
   "outputs": [],
   "source": [
    "# query = \"\"\"\n",
    "#     SELECT DISTINCT left.user_id AS UserID1, right.user_id AS UserID2\n",
    "#     FROM full AS left\n",
    "#     INNER JOIN full AS right\n",
    "#         ON left.user_id != right.user_id\n",
    "#         AND left.datetime <= right.datetime\n",
    "#         AND MBRContains(ST_BUFFER(left.geom, 50), right.geom)\n",
    "#         AND TIME_TO_SEC(TIMEDIFF(right.datetime, left.datetime)) <= 30\n",
    "# \"\"\"\n",
    "\n",
    "\n",
    "\n",
    "query = \"\"\"\n",
    "SELECT DISTINCT p1.user_id as UserID1, p2.user_id AS UserID2\n",
    "FROM full AS p1\n",
    "INNER JOIN full AS p2\n",
    "    ON p1.user_id != p2.user_id\n",
    "LIMIT 10\n",
    "\"\"\"\n",
    "\n",
    "database.query(query)"
   ]
  },
  {
   "cell_type": "code",
   "execution_count": null,
   "metadata": {},
   "outputs": [],
   "source": [
    "database.cursor.fetchall()\n"
   ]
  },
  {
   "cell_type": "code",
   "execution_count": null,
   "metadata": {},
   "outputs": [],
   "source": [
    "left_table = \"\"\"\n",
    "    CREATE TEMPORARY TABLE p1 AS\n",
    "        SELECT u.id as user_id, tp.datetime as datetime, tp.geom as geom\n",
    "        FROM TrackPoints as tp\n",
    "        INNER JOIN Activities as a\n",
    "            ON a.id = tp.activity_id\n",
    "        INNER JOIN Users as u\n",
    "            on u.id = a.user_id\n",
    "\"\"\"\n",
    "database.query(left_table)"
   ]
  },
  {
   "cell_type": "code",
   "execution_count": null,
   "metadata": {},
   "outputs": [],
   "source": [
    "right_table = \"\"\"\n",
    "    CREATE TEMPORARY TABLE p2 AS\n",
    "        SELECT u.id as user_id, tp.datetime as datetime, tp.geom as geom\n",
    "        FROM TrackPoints as tp\n",
    "        INNER JOIN Activities as a\n",
    "            ON a.id = tp.activity_id\n",
    "        INNER JOIN Users as u\n",
    "            on u.id = a.user_id\n",
    "\"\"\"\n",
    "database.query(right_table)"
   ]
  },
  {
   "cell_type": "code",
   "execution_count": 54,
   "metadata": {},
   "outputs": [
    {
     "name": "stdout",
     "output_type": "stream",
     "text": [
      "Running statement:\n",
      " \n",
      "WITH user_pairs AS (\n",
      "    SELECT a1.user_id AS user_id1, a2.user_id AS user_id2\n",
      "    FROM Activities AS a1\n",
      "    JOIN Activities AS a2 ON a1.user_id < a2.user_id\n",
      "    JOIN TrackPoints AS tp1 ON a1.id = tp1.activity_id\n",
      "    JOIN TrackPoints AS tp2 ON a2.id = tp2.activity_id AND tp1.id < tp2.id\n",
      "    WHERE ST_Distance_Sphere(tp1.geom, tp2.geom) <= 50\n",
      "    AND ABS(TIME_TO_SEC(TIMEDIFF(tp1.datetime, tp2.datetime))) <= 30\n",
      ")\n",
      "SELECT COUNT(DISTINCT user_id) as num_users\n",
      "FROM (\n",
      "    SELECT user_id1 AS user_id FROM user_pairs\n",
      "    UNION\n",
      "    SELECT user_id2 FROM user_pairs\n",
      ") AS user_ids;\n",
      "\n"
     ]
    },
    {
     "ename": "OperationalError",
     "evalue": "2013 (HY000): Lost connection to MySQL server during query",
     "output_type": "error",
     "traceback": [
      "\u001b[0;31m---------------------------------------------------------------------------\u001b[0m",
      "\u001b[0;31mMySQLInterfaceError\u001b[0m                       Traceback (most recent call last)",
      "File \u001b[0;32m~/Code/large-distributed-data/.venv/lib/python3.11/site-packages/mysql/connector/connection_cext.py:633\u001b[0m, in \u001b[0;36mCMySQLConnection.cmd_query\u001b[0;34m(self, query, raw, buffered, raw_as_string)\u001b[0m\n\u001b[1;32m    632\u001b[0m         query \u001b[39m=\u001b[39m query\u001b[39m.\u001b[39mencode(\u001b[39m\"\u001b[39m\u001b[39mutf-8\u001b[39m\u001b[39m\"\u001b[39m)\n\u001b[0;32m--> 633\u001b[0m     \u001b[39mself\u001b[39;49m\u001b[39m.\u001b[39;49m_cmysql\u001b[39m.\u001b[39;49mquery(\n\u001b[1;32m    634\u001b[0m         query,\n\u001b[1;32m    635\u001b[0m         raw\u001b[39m=\u001b[39;49mraw,\n\u001b[1;32m    636\u001b[0m         buffered\u001b[39m=\u001b[39;49mbuffered,\n\u001b[1;32m    637\u001b[0m         raw_as_string\u001b[39m=\u001b[39;49mraw_as_string,\n\u001b[1;32m    638\u001b[0m         query_attrs\u001b[39m=\u001b[39;49m\u001b[39mself\u001b[39;49m\u001b[39m.\u001b[39;49mquery_attrs,\n\u001b[1;32m    639\u001b[0m     )\n\u001b[1;32m    640\u001b[0m \u001b[39mexcept\u001b[39;00m MySQLInterfaceError \u001b[39mas\u001b[39;00m err:\n",
      "\u001b[0;31mMySQLInterfaceError\u001b[0m: Lost connection to MySQL server during query",
      "\nThe above exception was the direct cause of the following exception:\n",
      "\u001b[0;31mOperationalError\u001b[0m                          Traceback (most recent call last)",
      "\u001b[1;32m/Users/larswaage/Code/large-distributed-data/src/test_notebook.ipynb Cell 38\u001b[0m line \u001b[0;36m4\n\u001b[1;32m      <a href='vscode-notebook-cell:/Users/larswaage/Code/large-distributed-data/src/test_notebook.ipynb#X52sZmlsZQ%3D%3D?line=0'>1</a>\u001b[0m \u001b[39m# query = \"\"\"\u001b[39;00m\n\u001b[1;32m      <a href='vscode-notebook-cell:/Users/larswaage/Code/large-distributed-data/src/test_notebook.ipynb#X52sZmlsZQ%3D%3D?line=1'>2</a>\u001b[0m \u001b[39m# SELECT COUNT(DISTINCT a1.user_id, a2.user_id) as num_users\u001b[39;00m\n\u001b[1;32m      <a href='vscode-notebook-cell:/Users/larswaage/Code/large-distributed-data/src/test_notebook.ipynb#X52sZmlsZQ%3D%3D?line=2'>3</a>\u001b[0m \u001b[39m# FROM Activities AS a1\u001b[39;00m\n\u001b[0;32m   (...)\u001b[0m\n\u001b[1;32m     <a href='vscode-notebook-cell:/Users/larswaage/Code/large-distributed-data/src/test_notebook.ipynb#X52sZmlsZQ%3D%3D?line=26'>27</a>\u001b[0m \u001b[39m# ) AS user_ids;\u001b[39;00m\n\u001b[1;32m     <a href='vscode-notebook-cell:/Users/larswaage/Code/large-distributed-data/src/test_notebook.ipynb#X52sZmlsZQ%3D%3D?line=27'>28</a>\u001b[0m \u001b[39m# \"\"\"\u001b[39;00m\n\u001b[1;32m     <a href='vscode-notebook-cell:/Users/larswaage/Code/large-distributed-data/src/test_notebook.ipynb#X52sZmlsZQ%3D%3D?line=28'>29</a>\u001b[0m query \u001b[39m=\u001b[39m \u001b[39m\"\"\"\u001b[39m\n\u001b[1;32m     <a href='vscode-notebook-cell:/Users/larswaage/Code/large-distributed-data/src/test_notebook.ipynb#X52sZmlsZQ%3D%3D?line=29'>30</a>\u001b[0m \u001b[39mWITH user_pairs AS (\u001b[39m\n\u001b[1;32m     <a href='vscode-notebook-cell:/Users/larswaage/Code/large-distributed-data/src/test_notebook.ipynb#X52sZmlsZQ%3D%3D?line=30'>31</a>\u001b[0m \u001b[39m    SELECT a1.user_id AS user_id1, a2.user_id AS user_id2\u001b[39m\n\u001b[0;32m   (...)\u001b[0m\n\u001b[1;32m     <a href='vscode-notebook-cell:/Users/larswaage/Code/large-distributed-data/src/test_notebook.ipynb#X52sZmlsZQ%3D%3D?line=43'>44</a>\u001b[0m \u001b[39m) AS user_ids;\u001b[39m\n\u001b[1;32m     <a href='vscode-notebook-cell:/Users/larswaage/Code/large-distributed-data/src/test_notebook.ipynb#X52sZmlsZQ%3D%3D?line=44'>45</a>\u001b[0m \u001b[39m\"\"\"\u001b[39m\n\u001b[0;32m---> <a href='vscode-notebook-cell:/Users/larswaage/Code/large-distributed-data/src/test_notebook.ipynb#X52sZmlsZQ%3D%3D?line=46'>47</a>\u001b[0m database\u001b[39m.\u001b[39;49mquery(query)\n",
      "File \u001b[0;32m~/Code/large-distributed-data/src/database.py:39\u001b[0m, in \u001b[0;36mDatabase.query\u001b[0;34m(self, statement, data)\u001b[0m\n\u001b[1;32m     37\u001b[0m \u001b[39mdef\u001b[39;00m \u001b[39mquery\u001b[39m(\u001b[39mself\u001b[39m, statement: \u001b[39mstr\u001b[39m, data: \u001b[39mtuple\u001b[39m \u001b[39m|\u001b[39m \u001b[39mNone\u001b[39;00m \u001b[39m=\u001b[39m \u001b[39mNone\u001b[39;00m) \u001b[39m-\u001b[39m\u001b[39m>\u001b[39m pd\u001b[39m.\u001b[39mDataFrame:\n\u001b[1;32m     38\u001b[0m     \u001b[39mprint\u001b[39m(\u001b[39m\"\u001b[39m\u001b[39mRunning statement:\u001b[39m\u001b[39m\\n\u001b[39;00m\u001b[39m\"\u001b[39m, statement)\n\u001b[0;32m---> 39\u001b[0m     \u001b[39mself\u001b[39;49m\u001b[39m.\u001b[39;49mcursor\u001b[39m.\u001b[39;49mexecute(statement, data)\n\u001b[1;32m     40\u001b[0m     result \u001b[39m=\u001b[39m \u001b[39mself\u001b[39m\u001b[39m.\u001b[39mcursor\u001b[39m.\u001b[39mfetchall()\n\u001b[1;32m     41\u001b[0m     description \u001b[39m=\u001b[39m \u001b[39mself\u001b[39m\u001b[39m.\u001b[39mcursor\u001b[39m.\u001b[39mdescription\n",
      "File \u001b[0;32m~/Code/large-distributed-data/.venv/lib/python3.11/site-packages/mysql/connector/cursor_cext.py:330\u001b[0m, in \u001b[0;36mCMySQLCursor.execute\u001b[0;34m(self, operation, params, multi)\u001b[0m\n\u001b[1;32m    325\u001b[0m             \u001b[39mraise\u001b[39;00m ProgrammingError(\n\u001b[1;32m    326\u001b[0m                 \u001b[39m\"\u001b[39m\u001b[39mNot all parameters were used in the SQL statement\u001b[39m\u001b[39m\"\u001b[39m\n\u001b[1;32m    327\u001b[0m             )\n\u001b[1;32m    329\u001b[0m \u001b[39mtry\u001b[39;00m:\n\u001b[0;32m--> 330\u001b[0m     result \u001b[39m=\u001b[39m \u001b[39mself\u001b[39;49m\u001b[39m.\u001b[39;49m_cnx\u001b[39m.\u001b[39;49mcmd_query(\n\u001b[1;32m    331\u001b[0m         stmt,\n\u001b[1;32m    332\u001b[0m         raw\u001b[39m=\u001b[39;49m\u001b[39mself\u001b[39;49m\u001b[39m.\u001b[39;49m_raw,\n\u001b[1;32m    333\u001b[0m         buffered\u001b[39m=\u001b[39;49m\u001b[39mself\u001b[39;49m\u001b[39m.\u001b[39;49m_buffered,\n\u001b[1;32m    334\u001b[0m         raw_as_string\u001b[39m=\u001b[39;49m\u001b[39mself\u001b[39;49m\u001b[39m.\u001b[39;49m_raw_as_string,\n\u001b[1;32m    335\u001b[0m     )\n\u001b[1;32m    336\u001b[0m \u001b[39mexcept\u001b[39;00m MySQLInterfaceError \u001b[39mas\u001b[39;00m err:\n\u001b[1;32m    337\u001b[0m     \u001b[39mraise\u001b[39;00m get_mysql_exception(\n\u001b[1;32m    338\u001b[0m         msg\u001b[39m=\u001b[39merr\u001b[39m.\u001b[39mmsg, errno\u001b[39m=\u001b[39merr\u001b[39m.\u001b[39merrno, sqlstate\u001b[39m=\u001b[39merr\u001b[39m.\u001b[39msqlstate\n\u001b[1;32m    339\u001b[0m     ) \u001b[39mfrom\u001b[39;00m \u001b[39merr\u001b[39;00m\n",
      "File \u001b[0;32m~/Code/large-distributed-data/.venv/lib/python3.11/site-packages/mysql/connector/opentelemetry/context_propagation.py:77\u001b[0m, in \u001b[0;36mwith_context_propagation.<locals>.wrapper\u001b[0;34m(cnx, *args, **kwargs)\u001b[0m\n\u001b[1;32m     75\u001b[0m \u001b[39m\u001b[39m\u001b[39m\"\"\"Context propagation decorator.\"\"\"\u001b[39;00m\n\u001b[1;32m     76\u001b[0m \u001b[39mif\u001b[39;00m \u001b[39mnot\u001b[39;00m OTEL_ENABLED \u001b[39mor\u001b[39;00m \u001b[39mnot\u001b[39;00m cnx\u001b[39m.\u001b[39motel_context_propagation:\n\u001b[0;32m---> 77\u001b[0m     \u001b[39mreturn\u001b[39;00m method(cnx, \u001b[39m*\u001b[39;49margs, \u001b[39m*\u001b[39;49m\u001b[39m*\u001b[39;49mkwargs)\n\u001b[1;32m     79\u001b[0m current_span \u001b[39m=\u001b[39m trace\u001b[39m.\u001b[39mget_current_span()\n\u001b[1;32m     80\u001b[0m tp_header \u001b[39m=\u001b[39m \u001b[39mNone\u001b[39;00m\n",
      "File \u001b[0;32m~/Code/large-distributed-data/.venv/lib/python3.11/site-packages/mysql/connector/connection_cext.py:641\u001b[0m, in \u001b[0;36mCMySQLConnection.cmd_query\u001b[0;34m(self, query, raw, buffered, raw_as_string)\u001b[0m\n\u001b[1;32m    633\u001b[0m     \u001b[39mself\u001b[39m\u001b[39m.\u001b[39m_cmysql\u001b[39m.\u001b[39mquery(\n\u001b[1;32m    634\u001b[0m         query,\n\u001b[1;32m    635\u001b[0m         raw\u001b[39m=\u001b[39mraw,\n\u001b[0;32m   (...)\u001b[0m\n\u001b[1;32m    638\u001b[0m         query_attrs\u001b[39m=\u001b[39m\u001b[39mself\u001b[39m\u001b[39m.\u001b[39mquery_attrs,\n\u001b[1;32m    639\u001b[0m     )\n\u001b[1;32m    640\u001b[0m \u001b[39mexcept\u001b[39;00m MySQLInterfaceError \u001b[39mas\u001b[39;00m err:\n\u001b[0;32m--> 641\u001b[0m     \u001b[39mraise\u001b[39;00m get_mysql_exception(\n\u001b[1;32m    642\u001b[0m         err\u001b[39m.\u001b[39merrno, msg\u001b[39m=\u001b[39merr\u001b[39m.\u001b[39mmsg, sqlstate\u001b[39m=\u001b[39merr\u001b[39m.\u001b[39msqlstate\n\u001b[1;32m    643\u001b[0m     ) \u001b[39mfrom\u001b[39;00m \u001b[39merr\u001b[39;00m\n\u001b[1;32m    644\u001b[0m \u001b[39mexcept\u001b[39;00m \u001b[39mAttributeError\u001b[39;00m \u001b[39mas\u001b[39;00m err:\n\u001b[1;32m    645\u001b[0m     addr \u001b[39m=\u001b[39m (\n\u001b[1;32m    646\u001b[0m         \u001b[39mself\u001b[39m\u001b[39m.\u001b[39m_unix_socket \u001b[39mif\u001b[39;00m \u001b[39mself\u001b[39m\u001b[39m.\u001b[39m_unix_socket \u001b[39melse\u001b[39;00m \u001b[39mf\u001b[39m\u001b[39m\"\u001b[39m\u001b[39m{\u001b[39;00m\u001b[39mself\u001b[39m\u001b[39m.\u001b[39m_host\u001b[39m}\u001b[39;00m\u001b[39m:\u001b[39m\u001b[39m{\u001b[39;00m\u001b[39mself\u001b[39m\u001b[39m.\u001b[39m_port\u001b[39m}\u001b[39;00m\u001b[39m\"\u001b[39m\n\u001b[1;32m    647\u001b[0m     )\n",
      "\u001b[0;31mOperationalError\u001b[0m: 2013 (HY000): Lost connection to MySQL server during query"
     ]
    }
   ],
   "source": [
    "# query = \"\"\"\n",
    "# SELECT COUNT(DISTINCT a1.user_id, a2.user_id) as num_users\n",
    "# FROM Activities AS a1\n",
    "# JOIN Activities AS a2 ON a1.user_id < a2.user_id\n",
    "# JOIN TrackPoints AS tp1 ON a1.id = tp1.activity_id\n",
    "# JOIN TrackPoints AS tp2 ON a2.id = tp2.activity_id AND tp1.id < tp2.id\n",
    "# WHERE MBRContains(ST_BUFFER(tp1.geom, 50), tp2.geom)\n",
    "# AND ABS(TIME_TO_SEC(TIMEDIFF(tp1.datetime, tp2.datetime))) <= 30\n",
    "# AND ST_Distance_Sphere(tp1.geom, tp2.geom) <= 50\n",
    "# \"\"\"\n",
    "# query = \"\"\"\n",
    "# WITH user_pairs AS (\n",
    "#     SELECT a1.user_id AS user_id1, a2.user_id AS user_id2\n",
    "#     FROM Activities AS a1\n",
    "#     JOIN Activities AS a2 ON a1.user_id < a2.user_id\n",
    "#     JOIN TrackPoints AS tp1 ON a1.id = tp1.activity_id\n",
    "#     JOIN TrackPoints AS tp2 ON a2.id = tp2.activity_id AND tp1.id < tp2.id\n",
    "#     WHERE MBRContains(ST_BUFFER(tp1.geom, 50), tp2.geom)\n",
    "#     AND ABS(TIME_TO_SEC(TIMEDIFF(tp1.datetime, tp2.datetime))) <= 30\n",
    "#     AND ST_Distance_Sphere(tp1.geom, tp2.geom) <= 50\n",
    "# )\n",
    "# SELECT COUNT(DISTINCT user_id) as num_users\n",
    "# FROM (\n",
    "#     SELECT user_id1 AS user_id FROM user_pairs\n",
    "#     UNION\n",
    "#     SELECT user_id2 FROM user_pairs\n",
    "# ) AS user_ids;\n",
    "# \"\"\"\n",
    "query = \"\"\"\n",
    "WITH user_pairs AS (\n",
    "    SELECT a1.user_id AS user_id1, a2.user_id AS user_id2\n",
    "    FROM Activities AS a1\n",
    "    JOIN Activities AS a2 ON a1.user_id < a2.user_id\n",
    "    JOIN TrackPoints AS tp1 ON a1.id = tp1.activity_id\n",
    "    JOIN TrackPoints AS tp2 ON a2.id = tp2.activity_id AND tp1.id < tp2.id\n",
    "    WHERE ST_Distance_Sphere(tp1.geom, tp2.geom) <= 50\n",
    "    AND ABS(TIME_TO_SEC(TIMEDIFF(tp1.datetime, tp2.datetime))) <= 30\n",
    ")\n",
    "SELECT COUNT(DISTINCT user_id) as num_users\n",
    "FROM (\n",
    "    SELECT user_id1 AS user_id FROM user_pairs\n",
    "    UNION\n",
    "    SELECT user_id2 FROM user_pairs\n",
    ") AS user_ids;\n",
    "\"\"\"\n",
    "\n",
    "database.query(query)"
   ]
  },
  {
   "cell_type": "code",
   "execution_count": null,
   "metadata": {},
   "outputs": [],
   "source": []
  }
 ],
 "metadata": {
  "kernelspec": {
   "display_name": ".venv",
   "language": "python",
   "name": "python3"
  },
  "language_info": {
   "codemirror_mode": {
    "name": "ipython",
    "version": 3
   },
   "file_extension": ".py",
   "mimetype": "text/x-python",
   "name": "python",
   "nbconvert_exporter": "python",
   "pygments_lexer": "ipython3",
   "version": "3.11.5"
  },
  "orig_nbformat": 4
 },
 "nbformat": 4,
 "nbformat_minor": 2
}
